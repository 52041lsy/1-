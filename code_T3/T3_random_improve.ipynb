{
 "cells": [
  {
   "cell_type": "code",
   "execution_count": 41,
   "metadata": {},
   "outputs": [],
   "source": [
    "import pandas as pd\n",
    "import numpy as np\n",
    "from sklearn.ensemble import RandomForestRegressor\n",
    "from sklearn.model_selection import train_test_split\n",
    "from sklearn.metrics import mean_squared_error\n",
    "from sklearn.ensemble import RandomForestRegressor\n",
    "\n",
    "\n"
   ]
  },
  {
   "cell_type": "code",
   "execution_count": 42,
   "metadata": {},
   "outputs": [
    {
     "name": "stderr",
     "output_type": "stream",
     "text": [
      "/tmp/ipykernel_50480/2279121638.py:1: UserWarning: Could not infer format, so each element will be parsed individually, falling back to `dateutil`. To ensure parsing is consistent and as-expected, please specify a format.\n",
      "  df_csv = pd.read_csv('df_past_order_with_cluster.csv', index_col=0, parse_dates=True)\n"
     ]
    }
   ],
   "source": [
    "df_csv = pd.read_csv('df_past_order_with_cluster.csv', index_col=0, parse_dates=True)\n",
    "df_csv.drop('SKU', axis=1, inplace=True)\n",
    "grouped = df_csv.groupby('Cluster')\n",
    "\n",
    "# 然后你可以分别访问每个组的数据\n",
    "group_0 = grouped.get_group(0)\n",
    "group_1 = grouped.get_group(1)\n",
    "group_2 = grouped.get_group(2)\n",
    "group_0=group_0.T\n",
    "X= df_csv.iloc[:, 0]\n",
    "train = group_0.loc['2016-06-01':'2016-06-18']   \n",
    "test = group_0.loc['2016-06-18':'2016-06-23']\n",
    "X_train = group_0.loc['2016-06-01':'2016-06-18']   \n",
    "X_test = group_0.loc['2016-06-18':'2016-06-23']"
   ]
  },
  {
   "cell_type": "code",
   "execution_count": 43,
   "metadata": {},
   "outputs": [],
   "source": [
    "rf_model = RandomForestRegressor(n_estimators=100, random_state=85)"
   ]
  },
  {
   "cell_type": "code",
   "execution_count": 44,
   "metadata": {},
   "outputs": [
    {
     "name": "stdout",
     "output_type": "stream",
     "text": [
      "[298.599 370.657 371.66  233.118 231.307 287.348]\n",
      "2016-06-18    293.8\n",
      "2016-06-19    366.8\n",
      "2016-06-20    359.4\n",
      "2016-06-21    232.5\n",
      "2016-06-22    238.9\n",
      "2016-06-23    270.3\n",
      "Name: shang-hai-shi, dtype: float64\n",
      "RMSE: 9.459424991333677\n",
      "[494.448 496.426 497.47  368.562 371.217 366.721]\n",
      "2016-06-18    498.6\n",
      "2016-06-19    494.4\n",
      "2016-06-20    523.3\n",
      "2016-06-21    346.8\n",
      "2016-06-22    369.0\n",
      "2016-06-23    373.8\n",
      "Name: bei-jing-shi, dtype: float64\n",
      "RMSE: 14.242803176809682\n",
      "[176.201 223.435 227.829 139.324 145.932 148.617]\n",
      "2016-06-18    177.7\n",
      "2016-06-19    228.0\n",
      "2016-06-20    218.6\n",
      "2016-06-21    143.2\n",
      "2016-06-22    145.0\n",
      "2016-06-23    154.9\n",
      "Name: tian-jin-shi, dtype: float64\n",
      "RMSE: 5.2222082813052495\n",
      "[202.518 248.218 249.248 158.582 167.392 140.277]\n",
      "2016-06-18    204.1\n",
      "2016-06-19    232.3\n",
      "2016-06-20    261.5\n",
      "2016-06-21    159.6\n",
      "2016-06-22    169.1\n",
      "2016-06-23    127.4\n",
      "Name: guang-zhou-shi, dtype: float64\n",
      "RMSE: 9.795982756552153\n",
      "[210.339 247.09  248.942 169.754 165.148 173.221]\n",
      "2016-06-18    212.2\n",
      "2016-06-19    242.3\n",
      "2016-06-20    251.8\n",
      "2016-06-21    177.0\n",
      "2016-06-22    161.4\n",
      "2016-06-23    177.5\n",
      "Name: shen-zhen-shi, dtype: float64\n",
      "RMSE: 4.461641065796239\n",
      "[174.166 219.859 231.173 144.583 141.903 131.04 ]\n",
      "2016-06-18    169.8\n",
      "2016-06-19    229.9\n",
      "2016-06-20    241.2\n",
      "2016-06-21    149.9\n",
      "2016-06-22    153.8\n",
      "2016-06-23    126.1\n",
      "Name: chong-qing-shi, dtype: float64\n",
      "RMSE: 8.313012530565127\n",
      "{51.49507280236212}\n",
      "{8.58251213372702}\n"
     ]
    }
   ],
   "source": [
    "sum=0\n",
    "for col in train:\n",
    "    #从第二列开始 提取每一列数据进行预测\n",
    "    train_data = train[col]\n",
    "    test_data = test[col]\n",
    "    rf_model.fit(X_train, train_data)\n",
    "    y_pred = rf_model.predict(X_test)\n",
    "    from sklearn.metrics import mean_squared_error\n",
    "    print(y_pred)\n",
    "\n",
    "    print(test_data)\n",
    "    # 计算MSE\n",
    "    rmse = np.sqrt(mean_squared_error(y_pred, test_data))\n",
    "    sum+=rmse\n",
    "    print(f'RMSE: {rmse}')\n",
    "\n",
    "print({sum})\n",
    "temp=sum/6\n",
    "print({temp})"
   ]
  }
 ],
 "metadata": {
  "kernelspec": {
   "display_name": "hh_t",
   "language": "python",
   "name": "python3"
  },
  "language_info": {
   "codemirror_mode": {
    "name": "ipython",
    "version": 3
   },
   "file_extension": ".py",
   "mimetype": "text/x-python",
   "name": "python",
   "nbconvert_exporter": "python",
   "pygments_lexer": "ipython3",
   "version": "3.12.4"
  }
 },
 "nbformat": 4,
 "nbformat_minor": 2
}
