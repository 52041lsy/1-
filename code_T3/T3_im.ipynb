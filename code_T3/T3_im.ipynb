{
 "cells": [
  {
   "cell_type": "code",
   "execution_count": 1,
   "metadata": {},
   "outputs": [],
   "source": [
    "import pandas as pd\n",
    "import numpy as np\n",
    "from statsmodels.tsa.stattools import adfuller\n",
    "from statsmodels.tsa.arima.model import ARIMA\n",
    "from sklearn.metrics import mean_squared_error"
   ]
  },
  {
   "cell_type": "code",
   "execution_count": 2,
   "metadata": {},
   "outputs": [
    {
     "name": "stderr",
     "output_type": "stream",
     "text": [
      "/tmp/ipykernel_15664/2668064132.py:1: UserWarning: Could not infer format, so each element will be parsed individually, falling back to `dateutil`. To ensure parsing is consistent and as-expected, please specify a format.\n",
      "  df_csv = pd.read_csv('df_past_order_with_cluster_im.csv', index_col=0, parse_dates=True)\n"
     ]
    }
   ],
   "source": [
    "df_csv = pd.read_csv('df_past_order_with_cluster_im.csv', index_col=0, parse_dates=True)\n",
    "df_csv.drop('SKU', axis=1, inplace=True)\n",
    "#转置\n",
    "df_csv = df_csv.T"
   ]
  },
  {
   "cell_type": "code",
   "execution_count": 3,
   "metadata": {},
   "outputs": [],
   "source": [
    "#将数据集划分为训练集和测试集\n",
    "train = df_csv.loc['2016-06-01':'2016-06-18']   \n",
    "test = df_csv.loc['2016-06-18':'2016-06-23']\n"
   ]
  },
  {
   "cell_type": "code",
   "execution_count": 11,
   "metadata": {},
   "outputs": [
    {
     "name": "stdout",
     "output_type": "stream",
     "text": [
      "ADF Statistic: -3.8446077249963695\n",
      "p-value: 0.002482512301067748\n",
      "Critical Values: {'1%': -3.9644434814814815, '5%': -3.0849081481481484, '10%': -2.6818144444444445}\n"
     ]
    },
    {
     "name": "stderr",
     "output_type": "stream",
     "text": [
      "/home/thea/anaconda3/envs/hh_t/lib/python3.12/site-packages/statsmodels/tsa/statespace/sarimax.py:966: UserWarning: Non-stationary starting autoregressive parameters found. Using zeros as starting parameters.\n",
      "  warn('Non-stationary starting autoregressive parameters'\n",
      "/home/thea/anaconda3/envs/hh_t/lib/python3.12/site-packages/statsmodels/tsa/statespace/sarimax.py:978: UserWarning: Non-invertible starting MA parameters found. Using zeros as starting parameters.\n",
      "  warn('Non-invertible starting MA parameters found.'\n",
      "/home/thea/anaconda3/envs/hh_t/lib/python3.12/site-packages/statsmodels/base/model.py:607: ConvergenceWarning: Maximum Likelihood optimization failed to converge. Check mle_retvals\n",
      "  warnings.warn(\"Maximum Likelihood optimization failed to \"\n",
      "/home/thea/anaconda3/envs/hh_t/lib/python3.12/site-packages/statsmodels/tsa/statespace/sarimax.py:966: UserWarning: Non-stationary starting autoregressive parameters found. Using zeros as starting parameters.\n",
      "  warn('Non-stationary starting autoregressive parameters'\n",
      "/home/thea/anaconda3/envs/hh_t/lib/python3.12/site-packages/statsmodels/tsa/statespace/sarimax.py:978: UserWarning: Non-invertible starting MA parameters found. Using zeros as starting parameters.\n",
      "  warn('Non-invertible starting MA parameters found.'\n",
      "/home/thea/anaconda3/envs/hh_t/lib/python3.12/site-packages/statsmodels/base/model.py:607: ConvergenceWarning: Maximum Likelihood optimization failed to converge. Check mle_retvals\n",
      "  warnings.warn(\"Maximum Likelihood optimization failed to \"\n",
      "/home/thea/anaconda3/envs/hh_t/lib/python3.12/site-packages/statsmodels/tsa/statespace/sarimax.py:966: UserWarning: Non-stationary starting autoregressive parameters found. Using zeros as starting parameters.\n",
      "  warn('Non-stationary starting autoregressive parameters'\n"
     ]
    },
    {
     "name": "stdout",
     "output_type": "stream",
     "text": [
      "预测值：[346.53283193 251.81392608  78.84413699  51.24813764 -27.66904588]\n",
      "真实值：[484.  559.  499.9 457.5 448.8 449. ]\n",
      "RMSE: 369.4893385912745\n",
      "-------------------------\n",
      "ADF Statistic: -0.9966860880472832\n",
      "p-value: 0.7544710545893367\n",
      "Critical Values: {'1%': -4.331573, '5%': -3.23295, '10%': -2.7487}\n",
      "预测值：[15.72976772 11.0414618   2.86580473  2.37837479  3.62182573]\n",
      "真实值：[12.3 17.8 18.4  9.5  8.1  8.5]\n",
      "RMSE: 8.596789379777913\n",
      "-------------------------\n",
      "ADF Statistic: -2.4392998070525187\n",
      "p-value: 0.13095007616156307\n",
      "Critical Values: {'1%': -4.331573, '5%': -3.23295, '10%': -2.7487}\n"
     ]
    },
    {
     "name": "stderr",
     "output_type": "stream",
     "text": [
      "/home/thea/anaconda3/envs/hh_t/lib/python3.12/site-packages/statsmodels/base/model.py:607: ConvergenceWarning: Maximum Likelihood optimization failed to converge. Check mle_retvals\n",
      "  warnings.warn(\"Maximum Likelihood optimization failed to \"\n",
      "/home/thea/anaconda3/envs/hh_t/lib/python3.12/site-packages/statsmodels/tsa/statespace/sarimax.py:966: UserWarning: Non-stationary starting autoregressive parameters found. Using zeros as starting parameters.\n",
      "  warn('Non-stationary starting autoregressive parameters'\n",
      "/home/thea/anaconda3/envs/hh_t/lib/python3.12/site-packages/statsmodels/base/model.py:607: ConvergenceWarning: Maximum Likelihood optimization failed to converge. Check mle_retvals\n",
      "  warnings.warn(\"Maximum Likelihood optimization failed to \"\n",
      "/home/thea/anaconda3/envs/hh_t/lib/python3.12/site-packages/statsmodels/tsa/statespace/sarimax.py:966: UserWarning: Non-stationary starting autoregressive parameters found. Using zeros as starting parameters.\n",
      "  warn('Non-stationary starting autoregressive parameters'\n"
     ]
    },
    {
     "name": "stdout",
     "output_type": "stream",
     "text": [
      "预测值：[  48.07727922   27.048053    -33.22080242  -78.84054968 -110.36606621]\n",
      "真实值：[55.1 71.9 70.9 43.6 32.5 44.6]\n",
      "RMSE: 98.28993680930984\n",
      "-------------------------\n",
      "ADF Statistic: -15.614677502942296\n",
      "p-value: 1.762106618716181e-28\n",
      "Critical Values: {'1%': -4.137829282407408, '5%': -3.1549724074074077, '10%': -2.7144769444444443}\n",
      "预测值：[28.86651604 30.94338778 17.82152897 20.04945409 23.92544683]\n",
      "真实值：[19.  28.5 28.2 11.3  9.8 10.3]\n",
      "RMSE: 9.870280092697449\n",
      "-------------------------\n",
      "ADF Statistic: -7.253070964060941\n",
      "p-value: 1.7593620262495913e-10\n",
      "Critical Values: {'1%': -4.137829282407408, '5%': -3.1549724074074077, '10%': -2.7144769444444443}\n"
     ]
    },
    {
     "name": "stderr",
     "output_type": "stream",
     "text": [
      "/home/thea/anaconda3/envs/hh_t/lib/python3.12/site-packages/statsmodels/base/model.py:607: ConvergenceWarning: Maximum Likelihood optimization failed to converge. Check mle_retvals\n",
      "  warnings.warn(\"Maximum Likelihood optimization failed to \"\n",
      "/home/thea/anaconda3/envs/hh_t/lib/python3.12/site-packages/statsmodels/base/model.py:607: ConvergenceWarning: Maximum Likelihood optimization failed to converge. Check mle_retvals\n",
      "  warnings.warn(\"Maximum Likelihood optimization failed to \"\n",
      "/home/thea/anaconda3/envs/hh_t/lib/python3.12/site-packages/statsmodels/tsa/statespace/sarimax.py:966: UserWarning: Non-stationary starting autoregressive parameters found. Using zeros as starting parameters.\n",
      "  warn('Non-stationary starting autoregressive parameters'\n"
     ]
    },
    {
     "name": "stdout",
     "output_type": "stream",
     "text": [
      "预测值：[33.9600522  38.25517983 27.18170313 29.01233946 35.58236156]\n",
      "真实值：[20.3 28.5 29.3 14.5 12.9 15.2]\n",
      "RMSE: 14.22213274220795\n",
      "-------------------------\n",
      "ADF Statistic: -1.6121636588640056\n",
      "p-value: 0.4768399069765186\n",
      "Critical Values: {'1%': -4.331573, '5%': -3.23295, '10%': -2.7487}\n",
      "预测值：[20.38743753 23.20668601 23.46851385 19.04199602 -1.10768171]\n",
      "真实值：[12.4 13.7 13.2  8.2  8.7  6.7]\n",
      "RMSE: 9.729934492938673\n",
      "-------------------------\n",
      "ADF Statistic: 2.179285124066367\n",
      "p-value: 0.998865023738246\n",
      "Critical Values: {'1%': -4.331573, '5%': -3.23295, '10%': -2.7487}\n"
     ]
    },
    {
     "name": "stderr",
     "output_type": "stream",
     "text": [
      "/home/thea/anaconda3/envs/hh_t/lib/python3.12/site-packages/statsmodels/base/model.py:607: ConvergenceWarning: Maximum Likelihood optimization failed to converge. Check mle_retvals\n",
      "  warnings.warn(\"Maximum Likelihood optimization failed to \"\n",
      "/home/thea/anaconda3/envs/hh_t/lib/python3.12/site-packages/statsmodels/tsa/statespace/sarimax.py:966: UserWarning: Non-stationary starting autoregressive parameters found. Using zeros as starting parameters.\n",
      "  warn('Non-stationary starting autoregressive parameters'\n",
      "/home/thea/anaconda3/envs/hh_t/lib/python3.12/site-packages/statsmodels/base/model.py:607: ConvergenceWarning: Maximum Likelihood optimization failed to converge. Check mle_retvals\n",
      "  warnings.warn(\"Maximum Likelihood optimization failed to \"\n",
      "/home/thea/anaconda3/envs/hh_t/lib/python3.12/site-packages/statsmodels/tsa/statespace/sarimax.py:966: UserWarning: Non-stationary starting autoregressive parameters found. Using zeros as starting parameters.\n",
      "  warn('Non-stationary starting autoregressive parameters'\n"
     ]
    },
    {
     "name": "stdout",
     "output_type": "stream",
     "text": [
      "预测值：[ 48.80554503  78.95112902 113.01513203 164.50952376 244.76012822]\n",
      "真实值：[32.  46.9 44.3 22.  22.6 22.8]\n",
      "RMSE: 123.04109667401809\n",
      "-------------------------\n",
      "ADF Statistic: -2.4536409620807342\n",
      "p-value: 0.1271651432640581\n",
      "Critical Values: {'1%': -4.331573, '5%': -3.23295, '10%': -2.7487}\n",
      "预测值：[ 28.69611517  52.04362292  78.66861892 131.84456943 198.44022522]\n",
      "真实值：[10.9 17.6 17.7  8.3  9.3  8.4]\n",
      "RMSE: 106.0731092924701\n",
      "-------------------------\n",
      "ADF Statistic: -0.6665169662791941\n",
      "p-value: 0.8552328478739158\n",
      "Critical Values: {'1%': -4.223238279489106, '5%': -3.189368925619835, '10%': -2.729839421487603}\n"
     ]
    },
    {
     "name": "stderr",
     "output_type": "stream",
     "text": [
      "/home/thea/anaconda3/envs/hh_t/lib/python3.12/site-packages/statsmodels/base/model.py:607: ConvergenceWarning: Maximum Likelihood optimization failed to converge. Check mle_retvals\n",
      "  warnings.warn(\"Maximum Likelihood optimization failed to \"\n",
      "/home/thea/anaconda3/envs/hh_t/lib/python3.12/site-packages/statsmodels/tsa/statespace/sarimax.py:966: UserWarning: Non-stationary starting autoregressive parameters found. Using zeros as starting parameters.\n",
      "  warn('Non-stationary starting autoregressive parameters'\n",
      "/home/thea/anaconda3/envs/hh_t/lib/python3.12/site-packages/statsmodels/base/model.py:607: ConvergenceWarning: Maximum Likelihood optimization failed to converge. Check mle_retvals\n",
      "  warnings.warn(\"Maximum Likelihood optimization failed to \"\n",
      "/home/thea/anaconda3/envs/hh_t/lib/python3.12/site-packages/statsmodels/tsa/statespace/sarimax.py:966: UserWarning: Non-stationary starting autoregressive parameters found. Using zeros as starting parameters.\n",
      "  warn('Non-stationary starting autoregressive parameters'\n"
     ]
    },
    {
     "name": "stdout",
     "output_type": "stream",
     "text": [
      "预测值：[ 8.61429591  5.80295619  0.69625475 -2.38460608 -5.91643408]\n",
      "真实值：[ 8.3 12.1 13.2  7.3  8.9  6.7]\n",
      "RMSE: 10.093695993284681\n",
      "-------------------------\n",
      "ADF Statistic: 0.19055687681526828\n",
      "p-value: 0.9717269566983155\n",
      "Critical Values: {'1%': -4.331573, '5%': -3.23295, '10%': -2.7487}\n",
      "预测值：[  47.42862091   15.43302086  -52.68228998  -92.09310574 -155.50446546]\n",
      "真实值：[51.  78.2 75.1 35.6 39.5 25.7]\n",
      "RMSE: 122.15812022892877\n",
      "-------------------------\n",
      "ADF Statistic: -0.05628503293177941\n",
      "p-value: 0.9536223603474433\n",
      "Critical Values: {'1%': -4.331573, '5%': -3.23295, '10%': -2.7487}\n"
     ]
    },
    {
     "name": "stderr",
     "output_type": "stream",
     "text": [
      "/home/thea/anaconda3/envs/hh_t/lib/python3.12/site-packages/statsmodels/base/model.py:607: ConvergenceWarning: Maximum Likelihood optimization failed to converge. Check mle_retvals\n",
      "  warnings.warn(\"Maximum Likelihood optimization failed to \"\n",
      "/home/thea/anaconda3/envs/hh_t/lib/python3.12/site-packages/statsmodels/tsa/statespace/sarimax.py:966: UserWarning: Non-stationary starting autoregressive parameters found. Using zeros as starting parameters.\n",
      "  warn('Non-stationary starting autoregressive parameters'\n",
      "/home/thea/anaconda3/envs/hh_t/lib/python3.12/site-packages/statsmodels/tsa/statespace/sarimax.py:978: UserWarning: Non-invertible starting MA parameters found. Using zeros as starting parameters.\n",
      "  warn('Non-invertible starting MA parameters found.'\n",
      "/home/thea/anaconda3/envs/hh_t/lib/python3.12/site-packages/statsmodels/base/model.py:607: ConvergenceWarning: Maximum Likelihood optimization failed to converge. Check mle_retvals\n",
      "  warnings.warn(\"Maximum Likelihood optimization failed to \"\n",
      "/home/thea/anaconda3/envs/hh_t/lib/python3.12/site-packages/statsmodels/tsa/statespace/sarimax.py:966: UserWarning: Non-stationary starting autoregressive parameters found. Using zeros as starting parameters.\n",
      "  warn('Non-stationary starting autoregressive parameters'\n",
      "/home/thea/anaconda3/envs/hh_t/lib/python3.12/site-packages/statsmodels/tsa/statespace/sarimax.py:978: UserWarning: Non-invertible starting MA parameters found. Using zeros as starting parameters.\n",
      "  warn('Non-invertible starting MA parameters found.'\n"
     ]
    },
    {
     "name": "stdout",
     "output_type": "stream",
     "text": [
      "预测值：[29.61324453 44.19822962 47.38614755 66.1538764  99.66372685]\n",
      "真实值：[26.  37.8 42.8 23.3 23.6 23.6]\n",
      "RMSE: 39.235623908013686\n",
      "-------------------------\n",
      "ADF Statistic: -1.665072901362588\n",
      "p-value: 0.4491918114827745\n",
      "Critical Values: {'1%': -4.331573, '5%': -3.23295, '10%': -2.7487}\n",
      "预测值：[ 20.51953041  33.91533982  46.28027208  74.23563809 110.4716654 ]\n",
      "真实值：[11.1 16.8 18.9  8.3  9.   8.3]\n",
      "RMSE: 56.17000796411167\n",
      "-------------------------\n",
      "ADF Statistic: -2.441247202042556\n",
      "p-value: 0.13043140287146032\n",
      "Critical Values: {'1%': -4.137829282407408, '5%': -3.1549724074074077, '10%': -2.7144769444444443}\n",
      "预测值：[ 32.46952276  55.38817735  88.83473497 140.87780437 216.99477722]\n",
      "真实值：[16.9 17.9 17.2 12.3 13.6 12. ]\n",
      "RMSE: 113.73741305042863\n",
      "-------------------------\n",
      "ADF Statistic: 0.29782232963073296\n",
      "p-value: 0.9772443553166988\n",
      "Critical Values: {'1%': -4.331573, '5%': -3.23295, '10%': -2.7487}\n",
      "预测值：[16.67391261 14.91538155  8.36371436  3.92699763  0.55462778]\n",
      "真实值：[22.1 31.9 29.4 19.6 19.3 20.5]\n",
      "RMSE: 16.47711712051832\n",
      "-------------------------\n",
      "ADF Statistic: -4.198516041487504\n",
      "p-value: 0.0006627216741328505\n",
      "Critical Values: {'1%': -4.137829282407408, '5%': -3.1549724074074077, '10%': -2.7144769444444443}\n"
     ]
    },
    {
     "name": "stderr",
     "output_type": "stream",
     "text": [
      "/home/thea/anaconda3/envs/hh_t/lib/python3.12/site-packages/statsmodels/tsa/statespace/sarimax.py:966: UserWarning: Non-stationary starting autoregressive parameters found. Using zeros as starting parameters.\n",
      "  warn('Non-stationary starting autoregressive parameters'\n",
      "/home/thea/anaconda3/envs/hh_t/lib/python3.12/site-packages/statsmodels/base/model.py:607: ConvergenceWarning: Maximum Likelihood optimization failed to converge. Check mle_retvals\n",
      "  warnings.warn(\"Maximum Likelihood optimization failed to \"\n",
      "/home/thea/anaconda3/envs/hh_t/lib/python3.12/site-packages/statsmodels/tsa/statespace/sarimax.py:966: UserWarning: Non-stationary starting autoregressive parameters found. Using zeros as starting parameters.\n",
      "  warn('Non-stationary starting autoregressive parameters'\n",
      "/home/thea/anaconda3/envs/hh_t/lib/python3.12/site-packages/statsmodels/base/model.py:607: ConvergenceWarning: Maximum Likelihood optimization failed to converge. Check mle_retvals\n",
      "  warnings.warn(\"Maximum Likelihood optimization failed to \"\n",
      "/home/thea/anaconda3/envs/hh_t/lib/python3.12/site-packages/statsmodels/tsa/statespace/sarimax.py:978: UserWarning: Non-invertible starting MA parameters found. Using zeros as starting parameters.\n",
      "  warn('Non-invertible starting MA parameters found.'\n",
      "/home/thea/anaconda3/envs/hh_t/lib/python3.12/site-packages/statsmodels/tsa/statespace/sarimax.py:966: UserWarning: Non-stationary starting autoregressive parameters found. Using zeros as starting parameters.\n",
      "  warn('Non-stationary starting autoregressive parameters'\n",
      "/home/thea/anaconda3/envs/hh_t/lib/python3.12/site-packages/statsmodels/tsa/statespace/sarimax.py:966: UserWarning: Non-stationary starting autoregressive parameters found. Using zeros as starting parameters.\n",
      "  warn('Non-stationary starting autoregressive parameters'\n",
      "/home/thea/anaconda3/envs/hh_t/lib/python3.12/site-packages/statsmodels/tsa/statespace/sarimax.py:978: UserWarning: Non-invertible starting MA parameters found. Using zeros as starting parameters.\n",
      "  warn('Non-invertible starting MA parameters found.'\n"
     ]
    },
    {
     "name": "stdout",
     "output_type": "stream",
     "text": [
      "预测值：[36.36548931 32.3085769  19.18435965 18.03979331 15.70908611]\n",
      "真实值：[18.9 29.3 30.6 12.3  9.  12.5]\n",
      "RMSE: 10.221240478701297\n",
      "-------------------------\n",
      "ADF Statistic: -3.1122847174726185\n",
      "p-value: 0.025657321271473656\n",
      "Critical Values: {'1%': -3.889265672705068, '5%': -3.0543579727254224, '10%': -2.66698384083045}\n",
      "预测值：[361.13834552 418.66256516 482.31891859 567.35068555 685.61468363]\n",
      "真实值：[354.1 419.8 354.6 342.7 291.7 302.9]\n",
      "RMSE: 210.71290703498534\n",
      "-------------------------\n",
      "ADF Statistic: -0.2673436618575096\n",
      "p-value: 0.930003793548329\n",
      "Critical Values: {'1%': -4.331573, '5%': -3.23295, '10%': -2.7487}\n",
      "预测值：[157.24804457 148.90088905 182.53987342 233.68150429 298.42765301]\n",
      "真实值：[118.7 147.1 155.3 102.8 106.8 107.7]\n",
      "RMSE: 105.90781773616294\n",
      "-------------------------\n",
      "ADF Statistic: 0.4052563644805199\n",
      "p-value: 0.9816904497835918\n",
      "Critical Values: {'1%': -4.331573, '5%': -3.23295, '10%': -2.7487}\n"
     ]
    },
    {
     "name": "stderr",
     "output_type": "stream",
     "text": [
      "/home/thea/anaconda3/envs/hh_t/lib/python3.12/site-packages/statsmodels/base/model.py:607: ConvergenceWarning: Maximum Likelihood optimization failed to converge. Check mle_retvals\n",
      "  warnings.warn(\"Maximum Likelihood optimization failed to \"\n",
      "/home/thea/anaconda3/envs/hh_t/lib/python3.12/site-packages/statsmodels/tsa/statespace/sarimax.py:966: UserWarning: Non-stationary starting autoregressive parameters found. Using zeros as starting parameters.\n",
      "  warn('Non-stationary starting autoregressive parameters'\n",
      "/home/thea/anaconda3/envs/hh_t/lib/python3.12/site-packages/statsmodels/base/model.py:607: ConvergenceWarning: Maximum Likelihood optimization failed to converge. Check mle_retvals\n",
      "  warnings.warn(\"Maximum Likelihood optimization failed to \"\n"
     ]
    },
    {
     "name": "stdout",
     "output_type": "stream",
     "text": [
      "预测值：[ 46.69607166  77.42499342 115.24360733 170.81984712 258.69570274]\n",
      "真实值：[30.1 45.4 42.6 25.8 26.2 20.2]\n",
      "RMSE: 127.7991637789384\n",
      "-------------------------\n",
      "ADF Statistic: 681.138171021539\n",
      "p-value: 1.0\n",
      "Critical Values: {'1%': -4.331573, '5%': -3.23295, '10%': -2.7487}\n",
      "预测值：[ 64.84159664 100.89905416 138.98944159 214.68340945 312.73422623]\n",
      "真实值：[31.6 47.6 41.7 24.3 21.8 22.2]\n",
      "RMSE: 163.88996044775234\n",
      "-------------------------\n",
      "ADF Statistic: -0.7998053462261281\n",
      "p-value: 0.8191792390221577\n",
      "Critical Values: {'1%': -4.331573, '5%': -3.23295, '10%': -2.7487}\n"
     ]
    },
    {
     "name": "stderr",
     "output_type": "stream",
     "text": [
      "/home/thea/anaconda3/envs/hh_t/lib/python3.12/site-packages/statsmodels/base/model.py:607: ConvergenceWarning: Maximum Likelihood optimization failed to converge. Check mle_retvals\n",
      "  warnings.warn(\"Maximum Likelihood optimization failed to \"\n",
      "/home/thea/anaconda3/envs/hh_t/lib/python3.12/site-packages/statsmodels/tsa/statespace/sarimax.py:966: UserWarning: Non-stationary starting autoregressive parameters found. Using zeros as starting parameters.\n",
      "  warn('Non-stationary starting autoregressive parameters'\n",
      "/home/thea/anaconda3/envs/hh_t/lib/python3.12/site-packages/statsmodels/base/model.py:607: ConvergenceWarning: Maximum Likelihood optimization failed to converge. Check mle_retvals\n",
      "  warnings.warn(\"Maximum Likelihood optimization failed to \"\n",
      "/home/thea/anaconda3/envs/hh_t/lib/python3.12/site-packages/statsmodels/tsa/statespace/sarimax.py:966: UserWarning: Non-stationary starting autoregressive parameters found. Using zeros as starting parameters.\n",
      "  warn('Non-stationary starting autoregressive parameters'\n"
     ]
    },
    {
     "name": "stdout",
     "output_type": "stream",
     "text": [
      "预测值：[107.75340423 200.76642985 286.24420889 442.46444534 658.05484838]\n",
      "真实值：[61.5 81.1 82.6 50.2 46.2 50.2]\n",
      "RMSE: 342.3939677229175\n",
      "-------------------------\n",
      "ADF Statistic: -1.5218552925603988\n",
      "p-value: 0.5226734717543767\n",
      "Critical Values: {'1%': -4.331573, '5%': -3.23295, '10%': -2.7487}\n",
      "预测值：[24.22987555 31.62099263 26.44115865 38.59947241 54.38934019]\n",
      "真实值：[13.5 20.8 22.6  7.5  7.1  7.5]\n",
      "RMSE: 26.269516602923307\n",
      "-------------------------\n",
      "ADF Statistic: 1.0542394595008766\n",
      "p-value: 0.9948065154781898\n",
      "Critical Values: {'1%': -4.223238279489106, '5%': -3.189368925619835, '10%': -2.729839421487603}\n"
     ]
    },
    {
     "name": "stderr",
     "output_type": "stream",
     "text": [
      "/home/thea/anaconda3/envs/hh_t/lib/python3.12/site-packages/statsmodels/base/model.py:607: ConvergenceWarning: Maximum Likelihood optimization failed to converge. Check mle_retvals\n",
      "  warnings.warn(\"Maximum Likelihood optimization failed to \"\n",
      "/home/thea/anaconda3/envs/hh_t/lib/python3.12/site-packages/statsmodels/tsa/statespace/sarimax.py:966: UserWarning: Non-stationary starting autoregressive parameters found. Using zeros as starting parameters.\n",
      "  warn('Non-stationary starting autoregressive parameters'\n",
      "/home/thea/anaconda3/envs/hh_t/lib/python3.12/site-packages/statsmodels/tsa/statespace/sarimax.py:978: UserWarning: Non-invertible starting MA parameters found. Using zeros as starting parameters.\n",
      "  warn('Non-invertible starting MA parameters found.'\n",
      "/home/thea/anaconda3/envs/hh_t/lib/python3.12/site-packages/statsmodels/base/model.py:607: ConvergenceWarning: Maximum Likelihood optimization failed to converge. Check mle_retvals\n",
      "  warnings.warn(\"Maximum Likelihood optimization failed to \"\n",
      "/home/thea/anaconda3/envs/hh_t/lib/python3.12/site-packages/statsmodels/tsa/statespace/sarimax.py:966: UserWarning: Non-stationary starting autoregressive parameters found. Using zeros as starting parameters.\n",
      "  warn('Non-stationary starting autoregressive parameters'\n",
      "/home/thea/anaconda3/envs/hh_t/lib/python3.12/site-packages/statsmodels/tsa/statespace/sarimax.py:978: UserWarning: Non-invertible starting MA parameters found. Using zeros as starting parameters.\n",
      "  warn('Non-invertible starting MA parameters found.'\n"
     ]
    },
    {
     "name": "stdout",
     "output_type": "stream",
     "text": [
      "预测值：[63.2687289  53.67581545 28.18478128 43.58062392 59.22067773]\n",
      "真实值：[41.9 72.  63.9 31.7 28.6 29.3]\n",
      "RMSE: 25.086850317748382\n",
      "-------------------------\n",
      "ADF Statistic: -3.4529898392664724\n",
      "p-value: 0.009279753356343482\n",
      "Critical Values: {'1%': -3.7238633119999998, '5%': -2.98648896, '10%': -2.6328004}\n",
      "预测值：[34.76683148 26.74557599 37.86890772 33.42227882 44.06138661]\n",
      "真实值：[[31.1 22.5]\n",
      " [41.9 33.5]\n",
      " [38.1 32.9]\n",
      " [23.5 16.3]\n",
      " [23.8 13.9]\n",
      " [22.2 15. ]]\n",
      "RMSE: 4.080795808588483\n",
      "-------------------------\n",
      "ADF Statistic: -2.8731054784678225\n",
      "p-value: 0.04856604176664961\n",
      "Critical Values: {'1%': -4.223238279489106, '5%': -3.189368925619835, '10%': -2.729839421487603}\n",
      "预测值：[103.90410175  97.04509167  82.74702814  99.38783888  81.89909913]\n",
      "真实值：[ 89.9 100.1  92.6  66.2  69.3  68. ]\n",
      "RMSE: 17.678791682998888\n",
      "-------------------------\n",
      "ADF Statistic: -0.5924499422607086\n",
      "p-value: 0.8726789204444942\n",
      "Critical Values: {'1%': -4.331573, '5%': -3.23295, '10%': -2.7487}\n",
      "预测值：[23.42018359 30.82190951 30.26431574 45.40383622 62.30921712]\n",
      "真实值：[13.9 21.1 20.2  9.8  9.5  8. ]\n",
      "RMSE: 29.471635208495485\n",
      "-------------------------\n",
      "ADF Statistic: -1.2037664995085042\n",
      "p-value: 0.6719733638196039\n",
      "Critical Values: {'1%': -4.331573, '5%': -3.23295, '10%': -2.7487}\n"
     ]
    },
    {
     "name": "stderr",
     "output_type": "stream",
     "text": [
      "/home/thea/anaconda3/envs/hh_t/lib/python3.12/site-packages/statsmodels/tsa/statespace/sarimax.py:966: UserWarning: Non-stationary starting autoregressive parameters found. Using zeros as starting parameters.\n",
      "  warn('Non-stationary starting autoregressive parameters'\n",
      "/home/thea/anaconda3/envs/hh_t/lib/python3.12/site-packages/statsmodels/base/model.py:607: ConvergenceWarning: Maximum Likelihood optimization failed to converge. Check mle_retvals\n",
      "  warnings.warn(\"Maximum Likelihood optimization failed to \"\n",
      "/home/thea/anaconda3/envs/hh_t/lib/python3.12/site-packages/statsmodels/tsa/statespace/sarimax.py:966: UserWarning: Non-stationary starting autoregressive parameters found. Using zeros as starting parameters.\n",
      "  warn('Non-stationary starting autoregressive parameters'\n",
      "/home/thea/anaconda3/envs/hh_t/lib/python3.12/site-packages/statsmodels/base/model.py:607: ConvergenceWarning: Maximum Likelihood optimization failed to converge. Check mle_retvals\n",
      "  warnings.warn(\"Maximum Likelihood optimization failed to \"\n",
      "/home/thea/anaconda3/envs/hh_t/lib/python3.12/site-packages/statsmodels/tsa/statespace/sarimax.py:966: UserWarning: Non-stationary starting autoregressive parameters found. Using zeros as starting parameters.\n",
      "  warn('Non-stationary starting autoregressive parameters'\n",
      "/home/thea/anaconda3/envs/hh_t/lib/python3.12/site-packages/statsmodels/tsa/statespace/sarimax.py:978: UserWarning: Non-invertible starting MA parameters found. Using zeros as starting parameters.\n",
      "  warn('Non-invertible starting MA parameters found.'\n",
      "/home/thea/anaconda3/envs/hh_t/lib/python3.12/site-packages/statsmodels/base/model.py:607: ConvergenceWarning: Maximum Likelihood optimization failed to converge. Check mle_retvals\n",
      "  warnings.warn(\"Maximum Likelihood optimization failed to \"\n",
      "/home/thea/anaconda3/envs/hh_t/lib/python3.12/site-packages/statsmodels/tsa/statespace/sarimax.py:966: UserWarning: Non-stationary starting autoregressive parameters found. Using zeros as starting parameters.\n",
      "  warn('Non-stationary starting autoregressive parameters'\n"
     ]
    },
    {
     "name": "stdout",
     "output_type": "stream",
     "text": [
      "预测值：[18.23959076 19.27084256 11.37509181 16.10395605 19.55649178]\n",
      "真实值：[12.6 18.5 18.   9.   9.4  7.6]\n",
      "RMSE: 6.780989765798984\n",
      "-------------------------\n",
      "ADF Statistic: -3.7324685231254664\n",
      "p-value: 0.0036789542569975594\n",
      "Critical Values: {'1%': -4.01203360058309, '5%': -3.1041838775510207, '10%': -2.6909873469387753}\n",
      "预测值：[34.12543293 37.16908073 34.04438396 47.24947346 48.54526819]\n",
      "真实值：[29.4 40.7 38.8 25.8 27.8 24.5]\n",
      "RMSE: 13.768508426837364\n",
      "-------------------------\n",
      "ADF Statistic: -11.971786754723475\n",
      "p-value: 3.883093829017519e-22\n",
      "Critical Values: {'1%': -4.137829282407408, '5%': -3.1549724074074077, '10%': -2.7144769444444443}\n"
     ]
    },
    {
     "name": "stderr",
     "output_type": "stream",
     "text": [
      "/home/thea/anaconda3/envs/hh_t/lib/python3.12/site-packages/statsmodels/base/model.py:607: ConvergenceWarning: Maximum Likelihood optimization failed to converge. Check mle_retvals\n",
      "  warnings.warn(\"Maximum Likelihood optimization failed to \"\n",
      "/home/thea/anaconda3/envs/hh_t/lib/python3.12/site-packages/statsmodels/tsa/statespace/sarimax.py:966: UserWarning: Non-stationary starting autoregressive parameters found. Using zeros as starting parameters.\n",
      "  warn('Non-stationary starting autoregressive parameters'\n",
      "/home/thea/anaconda3/envs/hh_t/lib/python3.12/site-packages/statsmodels/base/model.py:607: ConvergenceWarning: Maximum Likelihood optimization failed to converge. Check mle_retvals\n",
      "  warnings.warn(\"Maximum Likelihood optimization failed to \"\n",
      "/home/thea/anaconda3/envs/hh_t/lib/python3.12/site-packages/statsmodels/tsa/statespace/sarimax.py:966: UserWarning: Non-stationary starting autoregressive parameters found. Using zeros as starting parameters.\n",
      "  warn('Non-stationary starting autoregressive parameters'\n"
     ]
    },
    {
     "name": "stdout",
     "output_type": "stream",
     "text": [
      "预测值：[15.52017186 11.59662347 -0.52409145 -2.56027454 -7.59114009]\n",
      "真实值：[12.5 18.6 19.9  8.1  7.3  7.8]\n",
      "RMSE: 12.733418570961122\n",
      "-------------------------\n",
      "ADF Statistic: -11.324576604447241\n",
      "p-value: 1.151903658184394e-20\n",
      "Critical Values: {'1%': -4.331573, '5%': -3.23295, '10%': -2.7487}\n",
      "预测值：[ 80.90271907 111.32455228 121.04591816 116.83468607 156.13555642]\n",
      "真实值：[77.4 96.3 97.1 66.5 64.  60.9]\n",
      "RMSE: 48.649675348273725\n",
      "-------------------------\n",
      "ADF Statistic: 0.657965175784227\n",
      "p-value: 0.988960556453012\n",
      "Critical Values: {'1%': -4.331573, '5%': -3.23295, '10%': -2.7487}\n"
     ]
    },
    {
     "name": "stderr",
     "output_type": "stream",
     "text": [
      "/home/thea/anaconda3/envs/hh_t/lib/python3.12/site-packages/statsmodels/base/model.py:607: ConvergenceWarning: Maximum Likelihood optimization failed to converge. Check mle_retvals\n",
      "  warnings.warn(\"Maximum Likelihood optimization failed to \"\n",
      "/home/thea/anaconda3/envs/hh_t/lib/python3.12/site-packages/statsmodels/tsa/statespace/sarimax.py:978: UserWarning: Non-invertible starting MA parameters found. Using zeros as starting parameters.\n",
      "  warn('Non-invertible starting MA parameters found.'\n",
      "/home/thea/anaconda3/envs/hh_t/lib/python3.12/site-packages/statsmodels/tsa/statespace/sarimax.py:966: UserWarning: Non-stationary starting autoregressive parameters found. Using zeros as starting parameters.\n",
      "  warn('Non-stationary starting autoregressive parameters'\n",
      "/home/thea/anaconda3/envs/hh_t/lib/python3.12/site-packages/statsmodels/tsa/statespace/sarimax.py:966: UserWarning: Non-stationary starting autoregressive parameters found. Using zeros as starting parameters.\n",
      "  warn('Non-stationary starting autoregressive parameters'\n"
     ]
    },
    {
     "name": "stdout",
     "output_type": "stream",
     "text": [
      "预测值：[ 73.35557654 107.84988441 124.42053405 181.57208202 253.05125767]\n",
      "真实值：[36.6 55.  50.  18.2 22.9 23.9]\n",
      "RMSE: 133.67313657405896\n",
      "-------------------------\n",
      "ADF Statistic: -3.2249904288200537\n",
      "p-value: 0.01858294681439672\n",
      "Critical Values: {'1%': -4.068853732362312, '5%': -3.1271488757396453, '10%': -2.7017297633136095}\n",
      "预测值：[ 28.72535785  42.93293205  55.27719036  77.35389614 101.30788018]\n",
      "真实值：[12.9 20.3 19.8  9.4 10.   9.8]\n",
      "RMSE: 54.72875612859649\n",
      "-------------------------\n",
      "ADF Statistic: -2.6317310957688407\n",
      "p-value: 0.08661481248532532\n",
      "Critical Values: {'1%': -4.331573, '5%': -3.23295, '10%': -2.7487}\n",
      "预测值：[ 58.84474282  89.16885908 140.32398702 216.06376805 320.70756484]\n",
      "真实值：[36.7 46.2 49.3 28.8 26.9 34.5]\n",
      "RMSE: 162.4885738917269\n",
      "-------------------------\n",
      "ADF Statistic: 0.5406072406124373\n",
      "p-value: 0.9860564379794936\n",
      "Critical Values: {'1%': -4.223238279489106, '5%': -3.189368925619835, '10%': -2.729839421487603}\n"
     ]
    },
    {
     "name": "stderr",
     "output_type": "stream",
     "text": [
      "/home/thea/anaconda3/envs/hh_t/lib/python3.12/site-packages/statsmodels/base/model.py:607: ConvergenceWarning: Maximum Likelihood optimization failed to converge. Check mle_retvals\n",
      "  warnings.warn(\"Maximum Likelihood optimization failed to \"\n",
      "/home/thea/anaconda3/envs/hh_t/lib/python3.12/site-packages/statsmodels/tsa/statespace/sarimax.py:966: UserWarning: Non-stationary starting autoregressive parameters found. Using zeros as starting parameters.\n",
      "  warn('Non-stationary starting autoregressive parameters'\n",
      "/home/thea/anaconda3/envs/hh_t/lib/python3.12/site-packages/statsmodels/tsa/statespace/sarimax.py:978: UserWarning: Non-invertible starting MA parameters found. Using zeros as starting parameters.\n",
      "  warn('Non-invertible starting MA parameters found.'\n",
      "/home/thea/anaconda3/envs/hh_t/lib/python3.12/site-packages/statsmodels/base/model.py:607: ConvergenceWarning: Maximum Likelihood optimization failed to converge. Check mle_retvals\n",
      "  warnings.warn(\"Maximum Likelihood optimization failed to \"\n",
      "/home/thea/anaconda3/envs/hh_t/lib/python3.12/site-packages/statsmodels/tsa/statespace/sarimax.py:966: UserWarning: Non-stationary starting autoregressive parameters found. Using zeros as starting parameters.\n",
      "  warn('Non-stationary starting autoregressive parameters'\n"
     ]
    },
    {
     "name": "stdout",
     "output_type": "stream",
     "text": [
      "预测值：[33.1727762  42.91455448 48.66616912 69.83897539 96.53158101]\n",
      "真实值：[15.3 25.4 22.8 11.1 13.   9.7]\n",
      "RMSE: 48.42116625804231\n",
      "-------------------------\n",
      "ADF Statistic: -4.647822996383325\n",
      "p-value: 0.0001053432841884198\n",
      "Critical Values: {'1%': -4.137829282407408, '5%': -3.1549724074074077, '10%': -2.7144769444444443}\n",
      "预测值：[105.37206444  83.4888498   70.53401975  79.44815731  75.78351195]\n",
      "真实值：[65.2 94.6 89.  49.3 51.1 41.4]\n",
      "RMSE: 26.819516516149655\n",
      "-------------------------\n",
      "ADF Statistic: -0.3731311817740162\n",
      "p-value: 0.9144891755513125\n",
      "Critical Values: {'1%': -4.331573, '5%': -3.23295, '10%': -2.7487}\n"
     ]
    },
    {
     "name": "stderr",
     "output_type": "stream",
     "text": [
      "/home/thea/anaconda3/envs/hh_t/lib/python3.12/site-packages/statsmodels/base/model.py:607: ConvergenceWarning: Maximum Likelihood optimization failed to converge. Check mle_retvals\n",
      "  warnings.warn(\"Maximum Likelihood optimization failed to \"\n",
      "/home/thea/anaconda3/envs/hh_t/lib/python3.12/site-packages/statsmodels/tsa/statespace/sarimax.py:966: UserWarning: Non-stationary starting autoregressive parameters found. Using zeros as starting parameters.\n",
      "  warn('Non-stationary starting autoregressive parameters'\n",
      "/home/thea/anaconda3/envs/hh_t/lib/python3.12/site-packages/statsmodels/tsa/statespace/sarimax.py:966: UserWarning: Non-stationary starting autoregressive parameters found. Using zeros as starting parameters.\n",
      "  warn('Non-stationary starting autoregressive parameters'\n"
     ]
    },
    {
     "name": "stdout",
     "output_type": "stream",
     "text": [
      "预测值：[206.13656798 212.79301085 217.51339595 340.64619171 476.40661546]\n",
      "真实值：[129.6 171.5 186.8  87.9  77.9 103. ]\n",
      "RMSE: 215.03228992834764\n",
      "-------------------------\n",
      "ADF Statistic: 0.6288558164314699\n",
      "p-value: 0.9883056959066805\n",
      "Critical Values: {'1%': -4.331573, '5%': -3.23295, '10%': -2.7487}\n",
      "预测值：[40.53662599 33.98778337 38.86856932 46.58973011 62.46687966]\n",
      "真实值：[41.7 55.3 55.3 40.2 38.2 40.5]\n",
      "RMSE: 16.46369294891473\n",
      "-------------------------\n",
      "ADF Statistic: -5.5824793199514975\n",
      "p-value: 1.3865253043456615e-06\n",
      "Critical Values: {'1%': -4.137829282407408, '5%': -3.1549724074074077, '10%': -2.7144769444444443}\n"
     ]
    },
    {
     "name": "stderr",
     "output_type": "stream",
     "text": [
      "/home/thea/anaconda3/envs/hh_t/lib/python3.12/site-packages/statsmodels/base/model.py:607: ConvergenceWarning: Maximum Likelihood optimization failed to converge. Check mle_retvals\n",
      "  warnings.warn(\"Maximum Likelihood optimization failed to \"\n",
      "/home/thea/anaconda3/envs/hh_t/lib/python3.12/site-packages/statsmodels/tsa/statespace/sarimax.py:966: UserWarning: Non-stationary starting autoregressive parameters found. Using zeros as starting parameters.\n",
      "  warn('Non-stationary starting autoregressive parameters'\n",
      "/home/thea/anaconda3/envs/hh_t/lib/python3.12/site-packages/statsmodels/base/model.py:607: ConvergenceWarning: Maximum Likelihood optimization failed to converge. Check mle_retvals\n",
      "  warnings.warn(\"Maximum Likelihood optimization failed to \"\n",
      "/home/thea/anaconda3/envs/hh_t/lib/python3.12/site-packages/statsmodels/tsa/statespace/sarimax.py:966: UserWarning: Non-stationary starting autoregressive parameters found. Using zeros as starting parameters.\n",
      "  warn('Non-stationary starting autoregressive parameters'\n"
     ]
    },
    {
     "name": "stdout",
     "output_type": "stream",
     "text": [
      "预测值：[32.25135054 26.66493307 15.1529869  14.79439205  7.84399568]\n",
      "真实值：[19.  27.  28.8 13.1 15.9 11.9]\n",
      "RMSE: 9.270616690252897\n",
      "-------------------------\n",
      "ADF Statistic: 0.5811350484255451\n",
      "p-value: 0.9871412917277854\n",
      "Critical Values: {'1%': -4.331573, '5%': -3.23295, '10%': -2.7487}\n",
      "预测值：[10.36405659  8.32243843  2.02571504 -0.51647489  0.41889825]\n",
      "真实值：[10.7 16.6 16.5  8.8  8.9  8.3]\n",
      "RMSE: 9.347316226229161\n",
      "-------------------------\n",
      "ADF Statistic: -1.1199594161621065\n",
      "p-value: 0.7070470460260206\n",
      "Critical Values: {'1%': -4.331573, '5%': -3.23295, '10%': -2.7487}\n"
     ]
    },
    {
     "name": "stderr",
     "output_type": "stream",
     "text": [
      "/home/thea/anaconda3/envs/hh_t/lib/python3.12/site-packages/statsmodels/base/model.py:607: ConvergenceWarning: Maximum Likelihood optimization failed to converge. Check mle_retvals\n",
      "  warnings.warn(\"Maximum Likelihood optimization failed to \"\n",
      "/home/thea/anaconda3/envs/hh_t/lib/python3.12/site-packages/statsmodels/tsa/statespace/sarimax.py:966: UserWarning: Non-stationary starting autoregressive parameters found. Using zeros as starting parameters.\n",
      "  warn('Non-stationary starting autoregressive parameters'\n",
      "/home/thea/anaconda3/envs/hh_t/lib/python3.12/site-packages/statsmodels/tsa/statespace/sarimax.py:978: UserWarning: Non-invertible starting MA parameters found. Using zeros as starting parameters.\n",
      "  warn('Non-invertible starting MA parameters found.'\n",
      "/home/thea/anaconda3/envs/hh_t/lib/python3.12/site-packages/statsmodels/base/model.py:607: ConvergenceWarning: Maximum Likelihood optimization failed to converge. Check mle_retvals\n",
      "  warnings.warn(\"Maximum Likelihood optimization failed to \"\n",
      "/home/thea/anaconda3/envs/hh_t/lib/python3.12/site-packages/statsmodels/tsa/statespace/sarimax.py:966: UserWarning: Non-stationary starting autoregressive parameters found. Using zeros as starting parameters.\n",
      "  warn('Non-stationary starting autoregressive parameters'\n"
     ]
    },
    {
     "name": "stdout",
     "output_type": "stream",
     "text": [
      "预测值：[  59.84738511   11.64823515  -84.82319331 -138.96170822 -216.24457336]\n",
      "真实值：[61.6 96.  84.2 58.2 52.8 58.4]\n",
      "RMSE: 171.43211616255692\n",
      "-------------------------\n",
      "ADF Statistic: -5.13857724121512\n",
      "p-value: 1.1719650764997385e-05\n",
      "Critical Values: {'1%': -3.7238633119999998, '5%': -2.98648896, '10%': -2.6328004}\n",
      "预测值：[ 47.48098308 153.5561277  110.48149531 216.3588555  196.37711623]\n",
      "真实值：[[ 11.7 105.2]\n",
      " [ 14.8 135.8]\n",
      " [ 14.2 141.4]\n",
      " [  7.3  73.7]\n",
      " [  7.6  69.2]\n",
      " [  5.8  89.8]]\n",
      "RMSE: 102.42243221657048\n",
      "-------------------------\n",
      "ADF Statistic: -3.131457555164153\n",
      "p-value: 0.024311093779460217\n",
      "Critical Values: {'1%': -4.331573, '5%': -3.23295, '10%': -2.7487}\n"
     ]
    },
    {
     "name": "stderr",
     "output_type": "stream",
     "text": [
      "/home/thea/anaconda3/envs/hh_t/lib/python3.12/site-packages/statsmodels/base/model.py:607: ConvergenceWarning: Maximum Likelihood optimization failed to converge. Check mle_retvals\n",
      "  warnings.warn(\"Maximum Likelihood optimization failed to \"\n",
      "/home/thea/anaconda3/envs/hh_t/lib/python3.12/site-packages/statsmodels/tsa/statespace/sarimax.py:966: UserWarning: Non-stationary starting autoregressive parameters found. Using zeros as starting parameters.\n",
      "  warn('Non-stationary starting autoregressive parameters'\n",
      "/home/thea/anaconda3/envs/hh_t/lib/python3.12/site-packages/statsmodels/base/model.py:607: ConvergenceWarning: Maximum Likelihood optimization failed to converge. Check mle_retvals\n",
      "  warnings.warn(\"Maximum Likelihood optimization failed to \"\n",
      "/home/thea/anaconda3/envs/hh_t/lib/python3.12/site-packages/statsmodels/tsa/statespace/sarimax.py:966: UserWarning: Non-stationary starting autoregressive parameters found. Using zeros as starting parameters.\n",
      "  warn('Non-stationary starting autoregressive parameters'\n"
     ]
    },
    {
     "name": "stdout",
     "output_type": "stream",
     "text": [
      "预测值：[27.5857242  38.98788536 38.78581454 51.07225028 60.67662645]\n",
      "真实值：[14.7 18.6 18.   9.7  7.8  8.4]\n",
      "RMSE: 33.23058394621246\n",
      "-------------------------\n",
      "ADF Statistic: -1.140712291334674\n",
      "p-value: 0.6985663834928743\n",
      "Critical Values: {'1%': -4.331573, '5%': -3.23295, '10%': -2.7487}\n",
      "预测值：[ 67.12247813  79.47438286  85.99564352 117.22301074 170.01524354]\n",
      "真实值：[42.6 63.4 59.9 37.6 29.5 33.2]\n",
      "RMSE: 74.33044870649151\n",
      "-------------------------\n",
      "ADF Statistic: -4.633876375967455\n",
      "p-value: 0.00011181903633851975\n",
      "Critical Values: {'1%': -4.068853732362312, '5%': -3.1271488757396453, '10%': -2.7017297633136095}\n"
     ]
    },
    {
     "name": "stderr",
     "output_type": "stream",
     "text": [
      "/home/thea/anaconda3/envs/hh_t/lib/python3.12/site-packages/statsmodels/base/model.py:607: ConvergenceWarning: Maximum Likelihood optimization failed to converge. Check mle_retvals\n",
      "  warnings.warn(\"Maximum Likelihood optimization failed to \"\n",
      "/home/thea/anaconda3/envs/hh_t/lib/python3.12/site-packages/statsmodels/base/model.py:607: ConvergenceWarning: Maximum Likelihood optimization failed to converge. Check mle_retvals\n",
      "  warnings.warn(\"Maximum Likelihood optimization failed to \"\n",
      "/home/thea/anaconda3/envs/hh_t/lib/python3.12/site-packages/statsmodels/tsa/statespace/sarimax.py:966: UserWarning: Non-stationary starting autoregressive parameters found. Using zeros as starting parameters.\n",
      "  warn('Non-stationary starting autoregressive parameters'\n"
     ]
    },
    {
     "name": "stdout",
     "output_type": "stream",
     "text": [
      "预测值：[243.57497472 263.29631257 276.02104395 364.32886386 395.23621932]\n",
      "真实值：[149.8 210.2 214.8 106.1 114.9 103.5]\n",
      "RMSE: 179.238121958514\n",
      "-------------------------\n",
      "ADF Statistic: 0.03316546723669544\n",
      "p-value: 0.9611904045700794\n",
      "Critical Values: {'1%': -4.331573, '5%': -3.23295, '10%': -2.7487}\n",
      "预测值：[ 79.87416882 167.2043261  293.17200701 490.79729717 786.60406876]\n",
      "真实值：[34.2 42.2 49.  29.4 28.3 29.3]\n",
      "RMSE: 415.9915162664679\n",
      "-------------------------\n",
      "ADF Statistic: -4.764948300963138\n",
      "p-value: 6.343512455378687e-05\n",
      "Critical Values: {'1%': -4.137829282407408, '5%': -3.1549724074074077, '10%': -2.7144769444444443}\n"
     ]
    },
    {
     "name": "stderr",
     "output_type": "stream",
     "text": [
      "/home/thea/anaconda3/envs/hh_t/lib/python3.12/site-packages/statsmodels/base/model.py:607: ConvergenceWarning: Maximum Likelihood optimization failed to converge. Check mle_retvals\n",
      "  warnings.warn(\"Maximum Likelihood optimization failed to \"\n",
      "/home/thea/anaconda3/envs/hh_t/lib/python3.12/site-packages/statsmodels/tsa/statespace/sarimax.py:966: UserWarning: Non-stationary starting autoregressive parameters found. Using zeros as starting parameters.\n",
      "  warn('Non-stationary starting autoregressive parameters'\n",
      "/home/thea/anaconda3/envs/hh_t/lib/python3.12/site-packages/statsmodels/tsa/statespace/sarimax.py:978: UserWarning: Non-invertible starting MA parameters found. Using zeros as starting parameters.\n",
      "  warn('Non-invertible starting MA parameters found.'\n",
      "/home/thea/anaconda3/envs/hh_t/lib/python3.12/site-packages/statsmodels/tsa/statespace/sarimax.py:966: UserWarning: Non-stationary starting autoregressive parameters found. Using zeros as starting parameters.\n",
      "  warn('Non-stationary starting autoregressive parameters'\n"
     ]
    },
    {
     "name": "stdout",
     "output_type": "stream",
     "text": [
      "预测值：[22.9037367  33.50999101 45.1943537  64.78681702 87.75504202]\n",
      "真实值：[11.2 16.  14.6  8.1  7.5  9.4]\n",
      "RMSE: 46.9762890136322\n",
      "-------------------------\n",
      "ADF Statistic: -0.10852402273712708\n",
      "p-value: 0.9485828614149711\n",
      "Critical Values: {'1%': -4.223238279489106, '5%': -3.189368925619835, '10%': -2.729839421487603}\n",
      "预测值：[ 59.44227903  96.8363666  126.25943759 175.45361227 268.5982991 ]\n",
      "真实值：[38.3 55.2 52.3 25.5 32.2 30.3]\n",
      "RMSE: 131.1646467363384\n",
      "-------------------------\n",
      "ADF Statistic: -7.2208079865393255\n",
      "p-value: 2.1138522182347123e-10\n",
      "Critical Values: {'1%': -4.137829282407408, '5%': -3.1549724074074077, '10%': -2.7144769444444443}\n"
     ]
    },
    {
     "name": "stderr",
     "output_type": "stream",
     "text": [
      "/home/thea/anaconda3/envs/hh_t/lib/python3.12/site-packages/statsmodels/base/model.py:607: ConvergenceWarning: Maximum Likelihood optimization failed to converge. Check mle_retvals\n",
      "  warnings.warn(\"Maximum Likelihood optimization failed to \"\n",
      "/home/thea/anaconda3/envs/hh_t/lib/python3.12/site-packages/statsmodels/tsa/statespace/sarimax.py:966: UserWarning: Non-stationary starting autoregressive parameters found. Using zeros as starting parameters.\n",
      "  warn('Non-stationary starting autoregressive parameters'\n",
      "/home/thea/anaconda3/envs/hh_t/lib/python3.12/site-packages/statsmodels/tsa/statespace/sarimax.py:978: UserWarning: Non-invertible starting MA parameters found. Using zeros as starting parameters.\n",
      "  warn('Non-invertible starting MA parameters found.'\n",
      "/home/thea/anaconda3/envs/hh_t/lib/python3.12/site-packages/statsmodels/base/model.py:607: ConvergenceWarning: Maximum Likelihood optimization failed to converge. Check mle_retvals\n",
      "  warnings.warn(\"Maximum Likelihood optimization failed to \"\n"
     ]
    },
    {
     "name": "stdout",
     "output_type": "stream",
     "text": [
      "预测值：[33.00960652 50.64586693 55.61968066 73.20453062 93.63532863]\n",
      "真实值：[14.4 20.9 21.3  8.4  7.3  7.8]\n",
      "RMSE: 53.0328026752906\n",
      "-------------------------\n",
      "ADF Statistic: -3.0645727802601135\n",
      "p-value: 0.029288491772605466\n",
      "Critical Values: {'1%': -4.223238279489106, '5%': -3.189368925619835, '10%': -2.729839421487603}\n",
      "预测值：[44.11890215 43.24229654 41.19028146 46.07530309 52.24805576]\n",
      "真实值：[25.3 32.3 32.6 17.1 13.8 17.4]\n",
      "RMSE: 23.939503268384197\n",
      "-------------------------\n",
      "ADF Statistic: 0.6470715253403764\n",
      "p-value: 0.9887201860287187\n",
      "Critical Values: {'1%': -4.331573, '5%': -3.23295, '10%': -2.7487}\n"
     ]
    },
    {
     "name": "stderr",
     "output_type": "stream",
     "text": [
      "/home/thea/anaconda3/envs/hh_t/lib/python3.12/site-packages/statsmodels/base/model.py:607: ConvergenceWarning: Maximum Likelihood optimization failed to converge. Check mle_retvals\n",
      "  warnings.warn(\"Maximum Likelihood optimization failed to \"\n",
      "/home/thea/anaconda3/envs/hh_t/lib/python3.12/site-packages/statsmodels/tsa/statespace/sarimax.py:966: UserWarning: Non-stationary starting autoregressive parameters found. Using zeros as starting parameters.\n",
      "  warn('Non-stationary starting autoregressive parameters'\n",
      "/home/thea/anaconda3/envs/hh_t/lib/python3.12/site-packages/statsmodels/base/model.py:607: ConvergenceWarning: Maximum Likelihood optimization failed to converge. Check mle_retvals\n",
      "  warnings.warn(\"Maximum Likelihood optimization failed to \"\n",
      "/home/thea/anaconda3/envs/hh_t/lib/python3.12/site-packages/statsmodels/tsa/statespace/sarimax.py:966: UserWarning: Non-stationary starting autoregressive parameters found. Using zeros as starting parameters.\n",
      "  warn('Non-stationary starting autoregressive parameters'\n"
     ]
    },
    {
     "name": "stdout",
     "output_type": "stream",
     "text": [
      "预测值：[247.87130289 326.55328941 435.5991217  621.39518555 810.64970962]\n",
      "真实值：[162.6 193.4 201.7 153.3 131.6 149. ]\n",
      "RMSE: 389.85417644056344\n",
      "-------------------------\n",
      "ADF Statistic: -0.7134969085603522\n",
      "p-value: 0.8432224912169268\n",
      "Critical Values: {'1%': -4.331573, '5%': -3.23295, '10%': -2.7487}\n",
      "预测值：[31.45684522 36.55223954 26.23483341 36.47993082 46.08257344]\n",
      "真实值：[19.3 32.2 32.6 11.5 11.3  9. ]\n",
      "RMSE: 20.204309236179363\n",
      "-------------------------\n",
      "ADF Statistic: -14.081888726315382\n",
      "p-value: 2.8192128214663404e-26\n",
      "Critical Values: {'1%': -4.331573, '5%': -3.23295, '10%': -2.7487}\n"
     ]
    },
    {
     "name": "stderr",
     "output_type": "stream",
     "text": [
      "/home/thea/anaconda3/envs/hh_t/lib/python3.12/site-packages/statsmodels/base/model.py:607: ConvergenceWarning: Maximum Likelihood optimization failed to converge. Check mle_retvals\n",
      "  warnings.warn(\"Maximum Likelihood optimization failed to \"\n",
      "/home/thea/anaconda3/envs/hh_t/lib/python3.12/site-packages/statsmodels/tsa/statespace/sarimax.py:966: UserWarning: Non-stationary starting autoregressive parameters found. Using zeros as starting parameters.\n",
      "  warn('Non-stationary starting autoregressive parameters'\n",
      "/home/thea/anaconda3/envs/hh_t/lib/python3.12/site-packages/statsmodels/tsa/statespace/sarimax.py:978: UserWarning: Non-invertible starting MA parameters found. Using zeros as starting parameters.\n",
      "  warn('Non-invertible starting MA parameters found.'\n",
      "/home/thea/anaconda3/envs/hh_t/lib/python3.12/site-packages/statsmodels/base/model.py:607: ConvergenceWarning: Maximum Likelihood optimization failed to converge. Check mle_retvals\n",
      "  warnings.warn(\"Maximum Likelihood optimization failed to \"\n",
      "/home/thea/anaconda3/envs/hh_t/lib/python3.12/site-packages/statsmodels/tsa/statespace/sarimax.py:966: UserWarning: Non-stationary starting autoregressive parameters found. Using zeros as starting parameters.\n",
      "  warn('Non-stationary starting autoregressive parameters'\n"
     ]
    },
    {
     "name": "stdout",
     "output_type": "stream",
     "text": [
      "预测值：[17.31135051 13.59534798  6.6853893   4.39990058  4.58048756]\n",
      "真实值：[17.2 21.5 19.3 14.9 15.3 13. ]\n",
      "RMSE: 9.45287614555249\n",
      "-------------------------\n",
      "ADF Statistic: -6.4670449778291035\n",
      "p-value: 1.3968791840694562e-08\n",
      "Critical Values: {'1%': -4.137829282407408, '5%': -3.1549724074074077, '10%': -2.7144769444444443}\n",
      "预测值：[25.18906081 26.55630639 19.97082855 24.24698778 27.60240925]\n",
      "真实值：[15.9 20.4 19.8 11.7 10.6 12.5]\n",
      "RMSE: 10.683864167978328\n",
      "-------------------------\n",
      "ADF Statistic: -1.0225390123217764\n",
      "p-value: 0.7449552129036885\n",
      "Critical Values: {'1%': -4.223238279489106, '5%': -3.189368925619835, '10%': -2.729839421487603}\n"
     ]
    },
    {
     "name": "stderr",
     "output_type": "stream",
     "text": [
      "/home/thea/anaconda3/envs/hh_t/lib/python3.12/site-packages/statsmodels/base/model.py:607: ConvergenceWarning: Maximum Likelihood optimization failed to converge. Check mle_retvals\n",
      "  warnings.warn(\"Maximum Likelihood optimization failed to \"\n",
      "/home/thea/anaconda3/envs/hh_t/lib/python3.12/site-packages/statsmodels/tsa/statespace/sarimax.py:966: UserWarning: Non-stationary starting autoregressive parameters found. Using zeros as starting parameters.\n",
      "  warn('Non-stationary starting autoregressive parameters'\n",
      "/home/thea/anaconda3/envs/hh_t/lib/python3.12/site-packages/statsmodels/base/model.py:607: ConvergenceWarning: Maximum Likelihood optimization failed to converge. Check mle_retvals\n",
      "  warnings.warn(\"Maximum Likelihood optimization failed to \"\n",
      "/home/thea/anaconda3/envs/hh_t/lib/python3.12/site-packages/statsmodels/tsa/statespace/sarimax.py:966: UserWarning: Non-stationary starting autoregressive parameters found. Using zeros as starting parameters.\n",
      "  warn('Non-stationary starting autoregressive parameters'\n"
     ]
    },
    {
     "name": "stdout",
     "output_type": "stream",
     "text": [
      "预测值：[28.3638052  29.04562973 32.75475306 44.21558398 56.4794618 ]\n",
      "真实值：[18.3 21.9 23.7 12.3 12.8 10.2]\n",
      "RMSE: 25.142906015509713\n",
      "-------------------------\n",
      "ADF Statistic: 1.4516035815159098\n",
      "p-value: 0.9973364112576438\n",
      "Critical Values: {'1%': -4.331573, '5%': -3.23295, '10%': -2.7487}\n",
      "预测值：[ 63.05915833  44.13561211 -15.23911531 -35.81594295 -46.05300004]\n",
      "真实值：[64.9 89.  82.1 47.9 45.3 48.1]\n",
      "RMSE: 73.27323510519821\n",
      "-------------------------\n",
      "ADF Statistic: 0.4400784952741412\n",
      "p-value: 0.9829334234083065\n",
      "Critical Values: {'1%': -4.331573, '5%': -3.23295, '10%': -2.7487}\n"
     ]
    },
    {
     "name": "stderr",
     "output_type": "stream",
     "text": [
      "/home/thea/anaconda3/envs/hh_t/lib/python3.12/site-packages/statsmodels/base/model.py:607: ConvergenceWarning: Maximum Likelihood optimization failed to converge. Check mle_retvals\n",
      "  warnings.warn(\"Maximum Likelihood optimization failed to \"\n",
      "/home/thea/anaconda3/envs/hh_t/lib/python3.12/site-packages/statsmodels/tsa/statespace/sarimax.py:966: UserWarning: Non-stationary starting autoregressive parameters found. Using zeros as starting parameters.\n",
      "  warn('Non-stationary starting autoregressive parameters'\n",
      "/home/thea/anaconda3/envs/hh_t/lib/python3.12/site-packages/statsmodels/base/model.py:607: ConvergenceWarning: Maximum Likelihood optimization failed to converge. Check mle_retvals\n",
      "  warnings.warn(\"Maximum Likelihood optimization failed to \"\n",
      "/home/thea/anaconda3/envs/hh_t/lib/python3.12/site-packages/statsmodels/tsa/statespace/sarimax.py:966: UserWarning: Non-stationary starting autoregressive parameters found. Using zeros as starting parameters.\n",
      "  warn('Non-stationary starting autoregressive parameters'\n",
      "/home/thea/anaconda3/envs/hh_t/lib/python3.12/site-packages/statsmodels/tsa/statespace/sarimax.py:978: UserWarning: Non-invertible starting MA parameters found. Using zeros as starting parameters.\n",
      "  warn('Non-invertible starting MA parameters found.'\n"
     ]
    },
    {
     "name": "stdout",
     "output_type": "stream",
     "text": [
      "预测值：[ 32.57329238  56.78457939  86.4221655  136.02876004 198.36765554]\n",
      "真实值：[13.4 16.2 16.3  9.1  9.3  7.3]\n",
      "RMSE: 108.43369375559242\n",
      "-------------------------\n",
      "ADF Statistic: -0.20696113667263324\n",
      "p-value: 0.9376867658513655\n",
      "Critical Values: {'1%': -4.223238279489106, '5%': -3.189368925619835, '10%': -2.729839421487603}\n",
      "预测值：[ 84.00159061 120.81456059 151.92580917 237.57455607 354.19937256]\n",
      "真实值：[40.2 62.9 57.5 29.9 30.6 24.2]\n",
      "RMSE: 180.01899007125078\n",
      "-------------------------\n",
      "ADF Statistic: -3.662489637349718\n",
      "p-value: 0.004672798153016094\n",
      "Critical Values: {'1%': -3.889265672705068, '5%': -3.0543579727254224, '10%': -2.66698384083045}\n",
      "预测值：[546.75468739 560.38543791 555.19587381 615.41299565 579.17998588]\n",
      "真实值：[556.9 593.6 678.7 564.3 520.4 645.8]\n",
      "RMSE: 67.1223197163381\n",
      "-------------------------\n",
      "ADF Statistic: -3.2720142181941414\n",
      "p-value: 0.016176735696165272\n",
      "Critical Values: {'1%': -4.331573, '5%': -3.23295, '10%': -2.7487}\n",
      "预测值：[120.37009101 134.40260534  96.16451993 110.09833834 131.89585899]\n",
      "真实值：[115.1 155.5 149.5  98.   87.   89.7]\n",
      "RMSE: 33.10454747045385\n",
      "-------------------------\n",
      "ADF Statistic: -5.188759916918805\n",
      "p-value: 9.268723484370144e-06\n",
      "Critical Values: {'1%': -4.137829282407408, '5%': -3.1549724074074077, '10%': -2.7144769444444443}\n"
     ]
    },
    {
     "name": "stderr",
     "output_type": "stream",
     "text": [
      "/home/thea/anaconda3/envs/hh_t/lib/python3.12/site-packages/statsmodels/tsa/statespace/sarimax.py:966: UserWarning: Non-stationary starting autoregressive parameters found. Using zeros as starting parameters.\n",
      "  warn('Non-stationary starting autoregressive parameters'\n",
      "/home/thea/anaconda3/envs/hh_t/lib/python3.12/site-packages/statsmodels/base/model.py:607: ConvergenceWarning: Maximum Likelihood optimization failed to converge. Check mle_retvals\n",
      "  warnings.warn(\"Maximum Likelihood optimization failed to \"\n",
      "/home/thea/anaconda3/envs/hh_t/lib/python3.12/site-packages/statsmodels/tsa/statespace/sarimax.py:978: UserWarning: Non-invertible starting MA parameters found. Using zeros as starting parameters.\n",
      "  warn('Non-invertible starting MA parameters found.'\n",
      "/home/thea/anaconda3/envs/hh_t/lib/python3.12/site-packages/statsmodels/base/model.py:607: ConvergenceWarning: Maximum Likelihood optimization failed to converge. Check mle_retvals\n",
      "  warnings.warn(\"Maximum Likelihood optimization failed to \"\n",
      "/home/thea/anaconda3/envs/hh_t/lib/python3.12/site-packages/statsmodels/tsa/statespace/sarimax.py:966: UserWarning: Non-stationary starting autoregressive parameters found. Using zeros as starting parameters.\n",
      "  warn('Non-stationary starting autoregressive parameters'\n",
      "/home/thea/anaconda3/envs/hh_t/lib/python3.12/site-packages/statsmodels/base/model.py:607: ConvergenceWarning: Maximum Likelihood optimization failed to converge. Check mle_retvals\n",
      "  warnings.warn(\"Maximum Likelihood optimization failed to \"\n",
      "/home/thea/anaconda3/envs/hh_t/lib/python3.12/site-packages/statsmodels/tsa/statespace/sarimax.py:966: UserWarning: Non-stationary starting autoregressive parameters found. Using zeros as starting parameters.\n",
      "  warn('Non-stationary starting autoregressive parameters'\n"
     ]
    },
    {
     "name": "stdout",
     "output_type": "stream",
     "text": [
      "预测值：[35.69785263 44.86245457 52.00129118 64.61141132 79.81228393]\n",
      "真实值：[24.9 28.8 26.2 19.6 13.3 18.5]\n",
      "RMSE: 38.70455707423169\n",
      "-------------------------\n",
      "ADF Statistic: -49.423624215485155\n",
      "p-value: 0.0\n",
      "Critical Values: {'1%': -4.331573, '5%': -3.23295, '10%': -2.7487}\n",
      "预测值：[29.33829099 34.76663343 31.67914002 40.33784877 45.66452242]\n",
      "真实值：[16.1 21.9 20.4 11.9 10.4 10.4]\n",
      "RMSE: 22.451367195105288\n",
      "-------------------------\n",
      "ADF Statistic: -2.258911513368532\n",
      "p-value: 0.1855623093233998\n",
      "Critical Values: {'1%': -4.068853732362312, '5%': -3.1271488757396453, '10%': -2.7017297633136095}\n"
     ]
    },
    {
     "name": "stderr",
     "output_type": "stream",
     "text": [
      "/home/thea/anaconda3/envs/hh_t/lib/python3.12/site-packages/statsmodels/base/model.py:607: ConvergenceWarning: Maximum Likelihood optimization failed to converge. Check mle_retvals\n",
      "  warnings.warn(\"Maximum Likelihood optimization failed to \"\n",
      "/home/thea/anaconda3/envs/hh_t/lib/python3.12/site-packages/statsmodels/tsa/statespace/sarimax.py:966: UserWarning: Non-stationary starting autoregressive parameters found. Using zeros as starting parameters.\n",
      "  warn('Non-stationary starting autoregressive parameters'\n",
      "/home/thea/anaconda3/envs/hh_t/lib/python3.12/site-packages/statsmodels/base/model.py:607: ConvergenceWarning: Maximum Likelihood optimization failed to converge. Check mle_retvals\n",
      "  warnings.warn(\"Maximum Likelihood optimization failed to \"\n",
      "/home/thea/anaconda3/envs/hh_t/lib/python3.12/site-packages/statsmodels/tsa/statespace/sarimax.py:966: UserWarning: Non-stationary starting autoregressive parameters found. Using zeros as starting parameters.\n",
      "  warn('Non-stationary starting autoregressive parameters'\n"
     ]
    },
    {
     "name": "stdout",
     "output_type": "stream",
     "text": [
      "预测值：[  44.64367052    1.684779    -53.1042151   -94.97994367 -143.88940504]\n",
      "真实值：[ 67.2 100.9  90.4  60.8  60.9  62.6]\n",
      "RMSE: 139.39296975461426\n",
      "-------------------------\n",
      "ADF Statistic: 0.07089304594780561\n",
      "p-value: 0.9640167129589666\n",
      "Critical Values: {'1%': -4.331573, '5%': -3.23295, '10%': -2.7487}\n",
      "预测值：[40.38156626 39.53641363 31.10361373 39.81647001 45.18898281]\n",
      "真实值：[26.8 34.8 30.  16.1 18.  13.2]\n",
      "RMSE: 17.3771244180091\n",
      "-------------------------\n",
      "ADF Statistic: -11.17433506110058\n",
      "p-value: 2.5933330226644453e-20\n",
      "Critical Values: {'1%': -4.331573, '5%': -3.23295, '10%': -2.7487}\n"
     ]
    },
    {
     "name": "stderr",
     "output_type": "stream",
     "text": [
      "/home/thea/anaconda3/envs/hh_t/lib/python3.12/site-packages/statsmodels/base/model.py:607: ConvergenceWarning: Maximum Likelihood optimization failed to converge. Check mle_retvals\n",
      "  warnings.warn(\"Maximum Likelihood optimization failed to \"\n",
      "/home/thea/anaconda3/envs/hh_t/lib/python3.12/site-packages/statsmodels/tsa/statespace/sarimax.py:966: UserWarning: Non-stationary starting autoregressive parameters found. Using zeros as starting parameters.\n",
      "  warn('Non-stationary starting autoregressive parameters'\n",
      "/home/thea/anaconda3/envs/hh_t/lib/python3.12/site-packages/statsmodels/base/model.py:607: ConvergenceWarning: Maximum Likelihood optimization failed to converge. Check mle_retvals\n",
      "  warnings.warn(\"Maximum Likelihood optimization failed to \"\n",
      "/home/thea/anaconda3/envs/hh_t/lib/python3.12/site-packages/statsmodels/tsa/statespace/sarimax.py:966: UserWarning: Non-stationary starting autoregressive parameters found. Using zeros as starting parameters.\n",
      "  warn('Non-stationary starting autoregressive parameters'\n",
      "/home/thea/anaconda3/envs/hh_t/lib/python3.12/site-packages/statsmodels/tsa/statespace/sarimax.py:978: UserWarning: Non-invertible starting MA parameters found. Using zeros as starting parameters.\n",
      "  warn('Non-invertible starting MA parameters found.'\n"
     ]
    },
    {
     "name": "stdout",
     "output_type": "stream",
     "text": [
      "预测值：[76.63837357 87.95663871 63.80114765 64.09026149 74.92817208]\n",
      "真实值：[47.5 64.  72.8 38.  41.2 35. ]\n",
      "RMSE: 25.776873493638654\n",
      "-------------------------\n",
      "ADF Statistic: -10.858077740933597\n",
      "p-value: 1.4701232843658703e-19\n",
      "Critical Values: {'1%': -4.331573, '5%': -3.23295, '10%': -2.7487}\n",
      "预测值：[19.36395055 14.62349267 -3.95125965 -5.39967331 -9.19596481]\n",
      "真实值：[14.3 22.5 26.2  8.3  7.3  7.6]\n",
      "RMSE: 17.067978092636608\n",
      "-------------------------\n",
      "ADF Statistic: -3.4529898392664724\n",
      "p-value: 0.009279753356343482\n",
      "Critical Values: {'1%': -3.7238633119999998, '5%': -2.98648896, '10%': -2.6328004}\n"
     ]
    },
    {
     "name": "stderr",
     "output_type": "stream",
     "text": [
      "/home/thea/anaconda3/envs/hh_t/lib/python3.12/site-packages/statsmodels/base/model.py:607: ConvergenceWarning: Maximum Likelihood optimization failed to converge. Check mle_retvals\n",
      "  warnings.warn(\"Maximum Likelihood optimization failed to \"\n",
      "/home/thea/anaconda3/envs/hh_t/lib/python3.12/site-packages/statsmodels/tsa/statespace/sarimax.py:966: UserWarning: Non-stationary starting autoregressive parameters found. Using zeros as starting parameters.\n",
      "  warn('Non-stationary starting autoregressive parameters'\n",
      "/home/thea/anaconda3/envs/hh_t/lib/python3.12/site-packages/statsmodels/tsa/statespace/sarimax.py:978: UserWarning: Non-invertible starting MA parameters found. Using zeros as starting parameters.\n",
      "  warn('Non-invertible starting MA parameters found.'\n",
      "/home/thea/anaconda3/envs/hh_t/lib/python3.12/site-packages/statsmodels/base/model.py:607: ConvergenceWarning: Maximum Likelihood optimization failed to converge. Check mle_retvals\n",
      "  warnings.warn(\"Maximum Likelihood optimization failed to \"\n",
      "/home/thea/anaconda3/envs/hh_t/lib/python3.12/site-packages/statsmodels/tsa/statespace/sarimax.py:966: UserWarning: Non-stationary starting autoregressive parameters found. Using zeros as starting parameters.\n",
      "  warn('Non-stationary starting autoregressive parameters'\n",
      "/home/thea/anaconda3/envs/hh_t/lib/python3.12/site-packages/statsmodels/tsa/statespace/sarimax.py:978: UserWarning: Non-invertible starting MA parameters found. Using zeros as starting parameters.\n",
      "  warn('Non-invertible starting MA parameters found.'\n"
     ]
    },
    {
     "name": "stdout",
     "output_type": "stream",
     "text": [
      "预测值：[34.76683148 26.74557599 37.86890772 33.42227882 44.06138661]\n",
      "真实值：[[31.1 22.5]\n",
      " [41.9 33.5]\n",
      " [38.1 32.9]\n",
      " [23.5 16.3]\n",
      " [23.8 13.9]\n",
      " [22.2 15. ]]\n",
      "RMSE: 4.080795808588483\n",
      "-------------------------\n",
      "ADF Statistic: 0.44829722224947527\n",
      "p-value: 0.9832139600097923\n",
      "Critical Values: {'1%': -4.331573, '5%': -3.23295, '10%': -2.7487}\n",
      "预测值：[ 48.98658805  81.51386725 112.56322671 176.58555748 262.13663497]\n",
      "真实值：[19.8 32.1 30.6 12.7 13.9 12.6]\n",
      "RMSE: 140.35060456245054\n",
      "-------------------------\n",
      "ADF Statistic: -0.262797277789767\n",
      "p-value: 0.9306105804154031\n",
      "Critical Values: {'1%': -4.223238279489106, '5%': -3.189368925619835, '10%': -2.729839421487603}\n",
      "预测值：[111.95658343 181.58450648 251.13646716 378.35371095 564.34238253]\n",
      "真实值：[68.4 77.4 81.7 60.1 60.6 58.3]\n",
      "RMSE: 281.60330940382096\n",
      "-------------------------\n",
      "ADF Statistic: -4.250669891830035\n",
      "p-value: 0.0005401877723922605\n",
      "Critical Values: {'1%': -4.137829282407408, '5%': -3.1549724074074077, '10%': -2.7144769444444443}\n",
      "预测值：[46.52700832 58.73957284 52.61779952 61.4929061  76.63004824]\n",
      "真实值：[24.9 35.9 36.1 15.3 18.1 14.3]\n",
      "RMSE: 36.93714210329606\n",
      "-------------------------\n",
      "ADF Statistic: -5.26006782062782\n",
      "p-value: 6.620890344835322e-06\n",
      "Critical Values: {'1%': -4.331573, '5%': -3.23295, '10%': -2.7487}\n"
     ]
    },
    {
     "name": "stderr",
     "output_type": "stream",
     "text": [
      "/home/thea/anaconda3/envs/hh_t/lib/python3.12/site-packages/statsmodels/tsa/statespace/sarimax.py:966: UserWarning: Non-stationary starting autoregressive parameters found. Using zeros as starting parameters.\n",
      "  warn('Non-stationary starting autoregressive parameters'\n",
      "/home/thea/anaconda3/envs/hh_t/lib/python3.12/site-packages/statsmodels/base/model.py:607: ConvergenceWarning: Maximum Likelihood optimization failed to converge. Check mle_retvals\n",
      "  warnings.warn(\"Maximum Likelihood optimization failed to \"\n",
      "/home/thea/anaconda3/envs/hh_t/lib/python3.12/site-packages/statsmodels/tsa/statespace/sarimax.py:966: UserWarning: Non-stationary starting autoregressive parameters found. Using zeros as starting parameters.\n",
      "  warn('Non-stationary starting autoregressive parameters'\n",
      "/home/thea/anaconda3/envs/hh_t/lib/python3.12/site-packages/statsmodels/base/model.py:607: ConvergenceWarning: Maximum Likelihood optimization failed to converge. Check mle_retvals\n",
      "  warnings.warn(\"Maximum Likelihood optimization failed to \"\n",
      "/home/thea/anaconda3/envs/hh_t/lib/python3.12/site-packages/statsmodels/tsa/statespace/sarimax.py:966: UserWarning: Non-stationary starting autoregressive parameters found. Using zeros as starting parameters.\n",
      "  warn('Non-stationary starting autoregressive parameters'\n",
      "/home/thea/anaconda3/envs/hh_t/lib/python3.12/site-packages/statsmodels/base/model.py:607: ConvergenceWarning: Maximum Likelihood optimization failed to converge. Check mle_retvals\n",
      "  warnings.warn(\"Maximum Likelihood optimization failed to \"\n",
      "/home/thea/anaconda3/envs/hh_t/lib/python3.12/site-packages/statsmodels/tsa/statespace/sarimax.py:966: UserWarning: Non-stationary starting autoregressive parameters found. Using zeros as starting parameters.\n",
      "  warn('Non-stationary starting autoregressive parameters'\n"
     ]
    },
    {
     "name": "stdout",
     "output_type": "stream",
     "text": [
      "预测值：[30.50670143 31.71453273 14.81520078 17.9876966  22.22032092]\n",
      "真实值：[24.5 35.2 36.2 13.3 14.1 12.9]\n",
      "RMSE: 10.894519016682949\n",
      "-------------------------\n",
      "ADF Statistic: 2.07677819335861\n",
      "p-value: 0.998764777483233\n",
      "Critical Values: {'1%': -4.331573, '5%': -3.23295, '10%': -2.7487}\n",
      "预测值：[23.44078903 17.40139631  1.48671987 -4.66551247 -7.26497708]\n",
      "真实值：[24.7 29.3 32.9 20.1 22.3 18.6]\n",
      "RMSE: 22.879576401820852\n",
      "-------------------------\n",
      "ADF Statistic: -0.5386014468027646\n",
      "p-value: 0.8842610382265395\n",
      "Critical Values: {'1%': -4.331573, '5%': -3.23295, '10%': -2.7487}\n",
      "预测值：[336.81680032 352.12749097 484.7692987  634.75579025 926.60691795]\n",
      "真实值：[161.5 192.8 205.8 103.5 109.8  93.9]\n",
      "RMSE: 465.4785382156556\n",
      "-------------------------\n",
      "ADF Statistic: -0.7904930934568022\n",
      "p-value: 0.8218987109895655\n",
      "Critical Values: {'1%': -4.331573, '5%': -3.23295, '10%': -2.7487}\n",
      "预测值：[ 78.73749899  81.19657742 105.32362704 134.33731234 180.68218751]\n",
      "真实值：[71.3 88.6 82.3 61.7 47.3 63.5]\n",
      "RMSE: 68.85811706852185\n",
      "-------------------------\n",
      "ADF Statistic: -0.8352623844555005\n",
      "p-value: 0.8085439810191135\n",
      "Critical Values: {'1%': -4.331573, '5%': -3.23295, '10%': -2.7487}\n"
     ]
    },
    {
     "name": "stderr",
     "output_type": "stream",
     "text": [
      "/home/thea/anaconda3/envs/hh_t/lib/python3.12/site-packages/statsmodels/tsa/statespace/sarimax.py:966: UserWarning: Non-stationary starting autoregressive parameters found. Using zeros as starting parameters.\n",
      "  warn('Non-stationary starting autoregressive parameters'\n",
      "/home/thea/anaconda3/envs/hh_t/lib/python3.12/site-packages/statsmodels/tsa/statespace/sarimax.py:966: UserWarning: Non-stationary starting autoregressive parameters found. Using zeros as starting parameters.\n",
      "  warn('Non-stationary starting autoregressive parameters'\n",
      "/home/thea/anaconda3/envs/hh_t/lib/python3.12/site-packages/statsmodels/base/model.py:607: ConvergenceWarning: Maximum Likelihood optimization failed to converge. Check mle_retvals\n",
      "  warnings.warn(\"Maximum Likelihood optimization failed to \"\n",
      "/home/thea/anaconda3/envs/hh_t/lib/python3.12/site-packages/statsmodels/tsa/statespace/sarimax.py:966: UserWarning: Non-stationary starting autoregressive parameters found. Using zeros as starting parameters.\n",
      "  warn('Non-stationary starting autoregressive parameters'\n",
      "/home/thea/anaconda3/envs/hh_t/lib/python3.12/site-packages/statsmodels/base/model.py:607: ConvergenceWarning: Maximum Likelihood optimization failed to converge. Check mle_retvals\n",
      "  warnings.warn(\"Maximum Likelihood optimization failed to \"\n",
      "/home/thea/anaconda3/envs/hh_t/lib/python3.12/site-packages/statsmodels/tsa/statespace/sarimax.py:966: UserWarning: Non-stationary starting autoregressive parameters found. Using zeros as starting parameters.\n",
      "  warn('Non-stationary starting autoregressive parameters'\n"
     ]
    },
    {
     "name": "stdout",
     "output_type": "stream",
     "text": [
      "预测值：[25.95025194 23.30687418 21.21188698 27.20311904 37.9472991 ]\n",
      "真实值：[22.2 23.  26.5 16.6 16.2 17.9]\n",
      "RMSE: 11.202622955208156\n",
      "-------------------------\n",
      "ADF Statistic: -0.5144900490547427\n",
      "p-value: 0.8891577085929969\n",
      "Critical Values: {'1%': -4.223238279489106, '5%': -3.189368925619835, '10%': -2.729839421487603}\n",
      "预测值：[20.60890129 19.82044736  9.27652355  9.00025529  3.76165165]\n",
      "真实值：[13.8 21.7 21.3  8.7  8.9  7.2]\n",
      "RMSE: 6.647564907134956\n",
      "-------------------------\n",
      "ADF Statistic: 0.6763100541683211\n",
      "p-value: 0.9893530428869716\n",
      "Critical Values: {'1%': -4.331573, '5%': -3.23295, '10%': -2.7487}\n"
     ]
    },
    {
     "name": "stderr",
     "output_type": "stream",
     "text": [
      "/home/thea/anaconda3/envs/hh_t/lib/python3.12/site-packages/statsmodels/base/model.py:607: ConvergenceWarning: Maximum Likelihood optimization failed to converge. Check mle_retvals\n",
      "  warnings.warn(\"Maximum Likelihood optimization failed to \"\n",
      "/home/thea/anaconda3/envs/hh_t/lib/python3.12/site-packages/statsmodels/tsa/statespace/sarimax.py:966: UserWarning: Non-stationary starting autoregressive parameters found. Using zeros as starting parameters.\n",
      "  warn('Non-stationary starting autoregressive parameters'\n",
      "/home/thea/anaconda3/envs/hh_t/lib/python3.12/site-packages/statsmodels/base/model.py:607: ConvergenceWarning: Maximum Likelihood optimization failed to converge. Check mle_retvals\n",
      "  warnings.warn(\"Maximum Likelihood optimization failed to \"\n"
     ]
    },
    {
     "name": "stdout",
     "output_type": "stream",
     "text": [
      "预测值：[ 12.20428133  10.32607949   0.497275    -6.43685238 -14.5661542 ]\n",
      "真实值：[20.1 22.2 20.2 15.9 15.1 16.1]\n",
      "RMSE: 19.8521811053179\n",
      "-------------------------\n",
      "ADF Statistic: -10.602054460911175\n",
      "p-value: 6.135173935704146e-19\n",
      "Critical Values: {'1%': -4.137829282407408, '5%': -3.1549724074074077, '10%': -2.7144769444444443}\n",
      "预测值：[23.39929969 24.2316489   9.22167238  6.17049001  2.57209218]\n",
      "真实值：[16.9 24.3 27.3 12.6 10.9 13.1]\n",
      "RMSE: 9.795551245915197\n",
      "-------------------------\n",
      "ADF Statistic: -0.3671843680589771\n",
      "p-value: 0.9154353212704247\n",
      "Critical Values: {'1%': -4.223238279489106, '5%': -3.189368925619835, '10%': -2.729839421487603}\n"
     ]
    },
    {
     "name": "stderr",
     "output_type": "stream",
     "text": [
      "/home/thea/anaconda3/envs/hh_t/lib/python3.12/site-packages/statsmodels/tsa/statespace/sarimax.py:966: UserWarning: Non-stationary starting autoregressive parameters found. Using zeros as starting parameters.\n",
      "  warn('Non-stationary starting autoregressive parameters'\n",
      "/home/thea/anaconda3/envs/hh_t/lib/python3.12/site-packages/statsmodels/base/model.py:607: ConvergenceWarning: Maximum Likelihood optimization failed to converge. Check mle_retvals\n",
      "  warnings.warn(\"Maximum Likelihood optimization failed to \"\n",
      "/home/thea/anaconda3/envs/hh_t/lib/python3.12/site-packages/statsmodels/tsa/statespace/sarimax.py:966: UserWarning: Non-stationary starting autoregressive parameters found. Using zeros as starting parameters.\n",
      "  warn('Non-stationary starting autoregressive parameters'\n"
     ]
    },
    {
     "name": "stdout",
     "output_type": "stream",
     "text": [
      "预测值：[42.93925215 42.68937825 27.34429837 48.40815785 69.24889554]\n",
      "真实值：[32.8 52.8 48.4 24.6 28.4 21.4]\n",
      "RMSE: 24.015963030109877\n",
      "-------------------------\n",
      "ADF Statistic: 0.8246210421563253\n",
      "p-value: 0.9920233800101403\n",
      "Critical Values: {'1%': -4.331573, '5%': -3.23295, '10%': -2.7487}\n",
      "预测值：[ 84.3006347  123.01626993 126.93548224 169.52304761 240.06121357]\n",
      "真实值：[55.3 89.7 74.1 44.7 41.8 46.7]\n",
      "RMSE: 109.2070523162277\n",
      "-------------------------\n",
      "ADF Statistic: -0.6682875263170652\n",
      "p-value: 0.8547936965270662\n",
      "Critical Values: {'1%': -4.223238279489106, '5%': -3.189368925619835, '10%': -2.729839421487603}\n"
     ]
    },
    {
     "name": "stderr",
     "output_type": "stream",
     "text": [
      "/home/thea/anaconda3/envs/hh_t/lib/python3.12/site-packages/statsmodels/base/model.py:607: ConvergenceWarning: Maximum Likelihood optimization failed to converge. Check mle_retvals\n",
      "  warnings.warn(\"Maximum Likelihood optimization failed to \"\n",
      "/home/thea/anaconda3/envs/hh_t/lib/python3.12/site-packages/statsmodels/tsa/statespace/sarimax.py:966: UserWarning: Non-stationary starting autoregressive parameters found. Using zeros as starting parameters.\n",
      "  warn('Non-stationary starting autoregressive parameters'\n",
      "/home/thea/anaconda3/envs/hh_t/lib/python3.12/site-packages/statsmodels/base/model.py:607: ConvergenceWarning: Maximum Likelihood optimization failed to converge. Check mle_retvals\n",
      "  warnings.warn(\"Maximum Likelihood optimization failed to \"\n"
     ]
    },
    {
     "name": "stdout",
     "output_type": "stream",
     "text": [
      "预测值：[23.22779656 25.13416375 21.02562091 30.97181649 42.86483979]\n",
      "真实值：[17.1 25.4 23.3 12.1 11.7 11.7]\n",
      "RMSE: 16.55406926368859\n",
      "-------------------------\n",
      "ADF Statistic: -3.043490089250689\n",
      "p-value: 0.031027776638112653\n",
      "Critical Values: {'1%': -4.331573, '5%': -3.23295, '10%': -2.7487}\n"
     ]
    },
    {
     "name": "stderr",
     "output_type": "stream",
     "text": [
      "/home/thea/anaconda3/envs/hh_t/lib/python3.12/site-packages/statsmodels/tsa/statespace/sarimax.py:966: UserWarning: Non-stationary starting autoregressive parameters found. Using zeros as starting parameters.\n",
      "  warn('Non-stationary starting autoregressive parameters'\n",
      "/home/thea/anaconda3/envs/hh_t/lib/python3.12/site-packages/statsmodels/base/model.py:607: ConvergenceWarning: Maximum Likelihood optimization failed to converge. Check mle_retvals\n",
      "  warnings.warn(\"Maximum Likelihood optimization failed to \"\n"
     ]
    },
    {
     "name": "stdout",
     "output_type": "stream",
     "text": [
      "预测值：[37.69944677 26.27804936  5.28169132  1.1910895  -4.4829867 ]\n",
      "真实值：[24.5 40.6 37.4 17.5 21.1 19.4]\n",
      "RMSE: 21.593514125945305\n",
      "-------------------------\n",
      "ADF Statistic: -0.6441887583564012\n",
      "p-value: 0.8606813753349026\n",
      "Critical Values: {'1%': -4.223238279489106, '5%': -3.189368925619835, '10%': -2.729839421487603}\n",
      "预测值：[ 56.31087003  96.48801442 118.72033594 173.6396384  248.56442345]\n",
      "真实值：[44.9 64.2 60.4 33.4 34.3 35.7]\n",
      "RMSE: 118.44862568191719\n",
      "-------------------------\n",
      "ADF Statistic: -0.1391312446882301\n",
      "p-value: 0.9453987188226438\n",
      "Critical Values: {'1%': -4.223238279489106, '5%': -3.189368925619835, '10%': -2.729839421487603}\n"
     ]
    },
    {
     "name": "stderr",
     "output_type": "stream",
     "text": [
      "/home/thea/anaconda3/envs/hh_t/lib/python3.12/site-packages/statsmodels/tsa/statespace/sarimax.py:966: UserWarning: Non-stationary starting autoregressive parameters found. Using zeros as starting parameters.\n",
      "  warn('Non-stationary starting autoregressive parameters'\n",
      "/home/thea/anaconda3/envs/hh_t/lib/python3.12/site-packages/statsmodels/tsa/statespace/sarimax.py:978: UserWarning: Non-invertible starting MA parameters found. Using zeros as starting parameters.\n",
      "  warn('Non-invertible starting MA parameters found.'\n",
      "/home/thea/anaconda3/envs/hh_t/lib/python3.12/site-packages/statsmodels/base/model.py:607: ConvergenceWarning: Maximum Likelihood optimization failed to converge. Check mle_retvals\n",
      "  warnings.warn(\"Maximum Likelihood optimization failed to \"\n",
      "/home/thea/anaconda3/envs/hh_t/lib/python3.12/site-packages/statsmodels/tsa/statespace/sarimax.py:966: UserWarning: Non-stationary starting autoregressive parameters found. Using zeros as starting parameters.\n",
      "  warn('Non-stationary starting autoregressive parameters'\n",
      "/home/thea/anaconda3/envs/hh_t/lib/python3.12/site-packages/statsmodels/base/model.py:607: ConvergenceWarning: Maximum Likelihood optimization failed to converge. Check mle_retvals\n",
      "  warnings.warn(\"Maximum Likelihood optimization failed to \"\n",
      "/home/thea/anaconda3/envs/hh_t/lib/python3.12/site-packages/statsmodels/tsa/statespace/sarimax.py:966: UserWarning: Non-stationary starting autoregressive parameters found. Using zeros as starting parameters.\n",
      "  warn('Non-stationary starting autoregressive parameters'\n",
      "/home/thea/anaconda3/envs/hh_t/lib/python3.12/site-packages/statsmodels/tsa/statespace/sarimax.py:978: UserWarning: Non-invertible starting MA parameters found. Using zeros as starting parameters.\n",
      "  warn('Non-invertible starting MA parameters found.'\n",
      "/home/thea/anaconda3/envs/hh_t/lib/python3.12/site-packages/statsmodels/tsa/statespace/sarimax.py:966: UserWarning: Non-stationary starting autoregressive parameters found. Using zeros as starting parameters.\n",
      "  warn('Non-stationary starting autoregressive parameters'\n"
     ]
    },
    {
     "name": "stdout",
     "output_type": "stream",
     "text": [
      "预测值：[ 50.20089356  29.66125429  -9.63284542 -41.99148825 -62.58245351]\n",
      "真实值：[58.3 79.1 76.2 49.1 44.1 51.2]\n",
      "RMSE: 76.88415478320466\n",
      "-------------------------\n",
      "ADF Statistic: 0.5092115131239575\n",
      "p-value: 0.9851503999729609\n",
      "Critical Values: {'1%': -4.331573, '5%': -3.23295, '10%': -2.7487}\n",
      "预测值：[ 79.31733429 119.05024338 157.09329567 234.70152694 330.13675716]\n",
      "真实值：[57.6 69.2 67.8 42.5 43.2 43.1]\n",
      "RMSE: 161.37168957542528\n",
      "-------------------------\n",
      "ADF Statistic: -0.6312666835544941\n",
      "p-value: 0.8637593853511352\n",
      "Critical Values: {'1%': -4.331573, '5%': -3.23295, '10%': -2.7487}\n"
     ]
    },
    {
     "name": "stderr",
     "output_type": "stream",
     "text": [
      "/home/thea/anaconda3/envs/hh_t/lib/python3.12/site-packages/statsmodels/base/model.py:607: ConvergenceWarning: Maximum Likelihood optimization failed to converge. Check mle_retvals\n",
      "  warnings.warn(\"Maximum Likelihood optimization failed to \"\n",
      "/home/thea/anaconda3/envs/hh_t/lib/python3.12/site-packages/statsmodels/tsa/statespace/sarimax.py:966: UserWarning: Non-stationary starting autoregressive parameters found. Using zeros as starting parameters.\n",
      "  warn('Non-stationary starting autoregressive parameters'\n",
      "/home/thea/anaconda3/envs/hh_t/lib/python3.12/site-packages/statsmodels/base/model.py:607: ConvergenceWarning: Maximum Likelihood optimization failed to converge. Check mle_retvals\n",
      "  warnings.warn(\"Maximum Likelihood optimization failed to \"\n",
      "/home/thea/anaconda3/envs/hh_t/lib/python3.12/site-packages/statsmodels/tsa/statespace/sarimax.py:966: UserWarning: Non-stationary starting autoregressive parameters found. Using zeros as starting parameters.\n",
      "  warn('Non-stationary starting autoregressive parameters'\n"
     ]
    },
    {
     "name": "stdout",
     "output_type": "stream",
     "text": [
      "预测值：[ 22.98343551  41.21711804  60.08393702  97.14574354 146.54922355]\n",
      "真实值：[11.6 16.6 16.6  9.3  8.5  9.2]\n",
      "RMSE: 76.68233247520001\n",
      "-------------------------\n",
      "ADF Statistic: -1.1170225840966128\n",
      "p-value: 0.7082359768539387\n",
      "Critical Values: {'1%': -4.223238279489106, '5%': -3.189368925619835, '10%': -2.729839421487603}\n",
      "预测值：[ 29.51882929  48.22716301  67.55501166 115.09875279 183.05981383]\n",
      "真实值：[13.3 22.5 21.1  8.3  6.8  8.3]\n",
      "RMSE: 95.45313076907433\n",
      "-------------------------\n",
      "ADF Statistic: -2.171861776160083\n",
      "p-value: 0.21661602007572006\n",
      "Critical Values: {'1%': -4.331573, '5%': -3.23295, '10%': -2.7487}\n"
     ]
    },
    {
     "name": "stderr",
     "output_type": "stream",
     "text": [
      "/home/thea/anaconda3/envs/hh_t/lib/python3.12/site-packages/statsmodels/base/model.py:607: ConvergenceWarning: Maximum Likelihood optimization failed to converge. Check mle_retvals\n",
      "  warnings.warn(\"Maximum Likelihood optimization failed to \"\n",
      "/home/thea/anaconda3/envs/hh_t/lib/python3.12/site-packages/statsmodels/tsa/statespace/sarimax.py:966: UserWarning: Non-stationary starting autoregressive parameters found. Using zeros as starting parameters.\n",
      "  warn('Non-stationary starting autoregressive parameters'\n",
      "/home/thea/anaconda3/envs/hh_t/lib/python3.12/site-packages/statsmodels/tsa/statespace/sarimax.py:978: UserWarning: Non-invertible starting MA parameters found. Using zeros as starting parameters.\n",
      "  warn('Non-invertible starting MA parameters found.'\n",
      "/home/thea/anaconda3/envs/hh_t/lib/python3.12/site-packages/statsmodels/base/model.py:607: ConvergenceWarning: Maximum Likelihood optimization failed to converge. Check mle_retvals\n",
      "  warnings.warn(\"Maximum Likelihood optimization failed to \"\n"
     ]
    },
    {
     "name": "stdout",
     "output_type": "stream",
     "text": [
      "预测值：[ 33.93924986  50.29768142  69.87771969 111.62844347 160.06421426]\n",
      "真实值：[16.8 25.7 26.7 14.1 14.3 15.3]\n",
      "RMSE: 81.88054534767883\n",
      "-------------------------\n",
      "ADF Statistic: -5.13857724121512\n",
      "p-value: 1.1719650764997385e-05\n",
      "Critical Values: {'1%': -3.7238633119999998, '5%': -2.98648896, '10%': -2.6328004}\n",
      "预测值：[ 47.48098308 153.5561277  110.48149531 216.3588555  196.37711623]\n",
      "真实值：[[ 11.7 105.2]\n",
      " [ 14.8 135.8]\n",
      " [ 14.2 141.4]\n",
      " [  7.3  73.7]\n",
      " [  7.6  69.2]\n",
      " [  5.8  89.8]]\n",
      "RMSE: 102.42243221657048\n",
      "-------------------------\n",
      "ADF Statistic: -1.2185191621229816\n",
      "p-value: 0.6655789354084221\n",
      "Critical Values: {'1%': -4.223238279489106, '5%': -3.189368925619835, '10%': -2.729839421487603}\n"
     ]
    },
    {
     "name": "stderr",
     "output_type": "stream",
     "text": [
      "/home/thea/anaconda3/envs/hh_t/lib/python3.12/site-packages/statsmodels/tsa/statespace/sarimax.py:966: UserWarning: Non-stationary starting autoregressive parameters found. Using zeros as starting parameters.\n",
      "  warn('Non-stationary starting autoregressive parameters'\n",
      "/home/thea/anaconda3/envs/hh_t/lib/python3.12/site-packages/statsmodels/base/model.py:607: ConvergenceWarning: Maximum Likelihood optimization failed to converge. Check mle_retvals\n",
      "  warnings.warn(\"Maximum Likelihood optimization failed to \"\n",
      "/home/thea/anaconda3/envs/hh_t/lib/python3.12/site-packages/statsmodels/tsa/statespace/sarimax.py:966: UserWarning: Non-stationary starting autoregressive parameters found. Using zeros as starting parameters.\n",
      "  warn('Non-stationary starting autoregressive parameters'\n"
     ]
    },
    {
     "name": "stdout",
     "output_type": "stream",
     "text": [
      "预测值：[ 27.99771994  41.40222314  50.60316684  79.31782007 116.11719276]\n",
      "真实值：[14.7 22.2 22.9  9.6  9.7 11. ]\n",
      "RMSE: 59.1577780469171\n",
      "-------------------------\n",
      "ADF Statistic: -1.5825826353600445\n",
      "p-value: 0.4923366535791954\n",
      "Critical Values: {'1%': -4.331573, '5%': -3.23295, '10%': -2.7487}\n"
     ]
    },
    {
     "name": "stderr",
     "output_type": "stream",
     "text": [
      "/home/thea/anaconda3/envs/hh_t/lib/python3.12/site-packages/statsmodels/base/model.py:607: ConvergenceWarning: Maximum Likelihood optimization failed to converge. Check mle_retvals\n",
      "  warnings.warn(\"Maximum Likelihood optimization failed to \"\n",
      "/home/thea/anaconda3/envs/hh_t/lib/python3.12/site-packages/statsmodels/tsa/statespace/sarimax.py:966: UserWarning: Non-stationary starting autoregressive parameters found. Using zeros as starting parameters.\n",
      "  warn('Non-stationary starting autoregressive parameters'\n"
     ]
    },
    {
     "name": "stdout",
     "output_type": "stream",
     "text": [
      "预测值：[25.88525729 35.10742886 39.08405086 61.4794816  86.1244007 ]\n",
      "真实值：[12.  20.5 21.1  7.7  7.9  7.2]\n",
      "RMSE: 44.13817606252459\n",
      "-------------------------\n",
      "ADF Statistic: -1.0344145360209194\n",
      "p-value: 0.7405064159120164\n",
      "Critical Values: {'1%': -4.331573, '5%': -3.23295, '10%': -2.7487}\n"
     ]
    },
    {
     "name": "stderr",
     "output_type": "stream",
     "text": [
      "/home/thea/anaconda3/envs/hh_t/lib/python3.12/site-packages/statsmodels/base/model.py:607: ConvergenceWarning: Maximum Likelihood optimization failed to converge. Check mle_retvals\n",
      "  warnings.warn(\"Maximum Likelihood optimization failed to \"\n",
      "/home/thea/anaconda3/envs/hh_t/lib/python3.12/site-packages/statsmodels/base/model.py:607: ConvergenceWarning: Maximum Likelihood optimization failed to converge. Check mle_retvals\n",
      "  warnings.warn(\"Maximum Likelihood optimization failed to \"\n"
     ]
    },
    {
     "name": "stdout",
     "output_type": "stream",
     "text": [
      "预测值：[ 47.00962088  99.16481807 159.65334667 274.54292538 440.83408104]\n",
      "真实值：[19.  28.2 31.7 12.2 11.7  9.7]\n",
      "RMSE: 234.5943192653974\n",
      "-------------------------\n",
      "ADF Statistic: -1.8830610737648135\n",
      "p-value: 0.34007119067455677\n",
      "Critical Values: {'1%': -4.223238279489106, '5%': -3.189368925619835, '10%': -2.729839421487603}\n",
      "预测值：[ 185.13733608  312.41998636  481.23545242  743.15774101 1108.81635226]\n",
      "真实值：[100.8 104.3 111.5  80.1  79.4  74.7]\n",
      "RMSE: 580.7709722541564\n",
      "-------------------------\n",
      "ADF Statistic: -3.1205645723511872\n",
      "p-value: 0.02506827803773509\n",
      "Critical Values: {'1%': -3.889265672705068, '5%': -3.0543579727254224, '10%': -2.66698384083045}\n"
     ]
    },
    {
     "name": "stderr",
     "output_type": "stream",
     "text": [
      "/home/thea/anaconda3/envs/hh_t/lib/python3.12/site-packages/statsmodels/base/model.py:607: ConvergenceWarning: Maximum Likelihood optimization failed to converge. Check mle_retvals\n",
      "  warnings.warn(\"Maximum Likelihood optimization failed to \"\n",
      "/home/thea/anaconda3/envs/hh_t/lib/python3.12/site-packages/statsmodels/tsa/statespace/sarimax.py:966: UserWarning: Non-stationary starting autoregressive parameters found. Using zeros as starting parameters.\n",
      "  warn('Non-stationary starting autoregressive parameters'\n",
      "/home/thea/anaconda3/envs/hh_t/lib/python3.12/site-packages/statsmodels/base/model.py:607: ConvergenceWarning: Maximum Likelihood optimization failed to converge. Check mle_retvals\n",
      "  warnings.warn(\"Maximum Likelihood optimization failed to \"\n",
      "/home/thea/anaconda3/envs/hh_t/lib/python3.12/site-packages/statsmodels/tsa/statespace/sarimax.py:966: UserWarning: Non-stationary starting autoregressive parameters found. Using zeros as starting parameters.\n",
      "  warn('Non-stationary starting autoregressive parameters'\n"
     ]
    },
    {
     "name": "stdout",
     "output_type": "stream",
     "text": [
      "预测值：[ 70.29340498  83.52345869 105.24738563 133.74997719 167.17247217]\n",
      "真实值：[42.  50.6 38.9 29.2 30.3 33.1]\n",
      "RMSE: 84.79530387240193\n",
      "-------------------------\n",
      "ADF Statistic: -4.89590270945826\n",
      "p-value: 3.552047839034412e-05\n",
      "Critical Values: {'1%': -4.137829282407408, '5%': -3.1549724074074077, '10%': -2.7144769444444443}\n",
      "预测值：[18.05223855 16.71222646  4.04632838  1.36214406 -1.09010721]\n",
      "真实值：[13.6 21.3 22.4 10.9 10.5 10.4]\n",
      "RMSE: 10.982063608387355\n",
      "-------------------------\n",
      "ADF Statistic: -1.969184294000626\n",
      "p-value: 0.3002459698729395\n",
      "Critical Values: {'1%': -4.223238279489106, '5%': -3.189368925619835, '10%': -2.729839421487603}\n"
     ]
    },
    {
     "name": "stderr",
     "output_type": "stream",
     "text": [
      "/home/thea/anaconda3/envs/hh_t/lib/python3.12/site-packages/statsmodels/base/model.py:607: ConvergenceWarning: Maximum Likelihood optimization failed to converge. Check mle_retvals\n",
      "  warnings.warn(\"Maximum Likelihood optimization failed to \"\n",
      "/home/thea/anaconda3/envs/hh_t/lib/python3.12/site-packages/statsmodels/tsa/statespace/sarimax.py:966: UserWarning: Non-stationary starting autoregressive parameters found. Using zeros as starting parameters.\n",
      "  warn('Non-stationary starting autoregressive parameters'\n",
      "/home/thea/anaconda3/envs/hh_t/lib/python3.12/site-packages/statsmodels/base/model.py:607: ConvergenceWarning: Maximum Likelihood optimization failed to converge. Check mle_retvals\n",
      "  warnings.warn(\"Maximum Likelihood optimization failed to \"\n",
      "/home/thea/anaconda3/envs/hh_t/lib/python3.12/site-packages/statsmodels/tsa/statespace/sarimax.py:966: UserWarning: Non-stationary starting autoregressive parameters found. Using zeros as starting parameters.\n",
      "  warn('Non-stationary starting autoregressive parameters'\n"
     ]
    },
    {
     "name": "stdout",
     "output_type": "stream",
     "text": [
      "预测值：[15.9881001  27.10897675 35.6227878  57.02069051 83.0527267 ]\n",
      "真实值：[10.  14.5 13.6  8.7  8.3  7.3]\n",
      "RMSE: 41.4794071166278\n",
      "-------------------------\n",
      "ADF Statistic: 1.9775791626127954\n",
      "p-value: 0.9986430997801847\n",
      "Critical Values: {'1%': -4.331573, '5%': -3.23295, '10%': -2.7487}\n",
      "预测值：[ 19.76917419  14.22691917  -4.07289226 -19.36456915 -28.18571429]\n",
      "真实值：[18.3 27.4 24.4 17.1 17.  14.9]\n",
      "RMSE: 29.52222113059211\n",
      "-------------------------\n",
      "ADF Statistic: -0.7814928611786192\n",
      "p-value: 0.8244980460433877\n",
      "Critical Values: {'1%': -4.223238279489106, '5%': -3.189368925619835, '10%': -2.729839421487603}\n"
     ]
    },
    {
     "name": "stderr",
     "output_type": "stream",
     "text": [
      "/home/thea/anaconda3/envs/hh_t/lib/python3.12/site-packages/statsmodels/base/model.py:607: ConvergenceWarning: Maximum Likelihood optimization failed to converge. Check mle_retvals\n",
      "  warnings.warn(\"Maximum Likelihood optimization failed to \"\n",
      "/home/thea/anaconda3/envs/hh_t/lib/python3.12/site-packages/statsmodels/tsa/statespace/sarimax.py:966: UserWarning: Non-stationary starting autoregressive parameters found. Using zeros as starting parameters.\n",
      "  warn('Non-stationary starting autoregressive parameters'\n",
      "/home/thea/anaconda3/envs/hh_t/lib/python3.12/site-packages/statsmodels/base/model.py:607: ConvergenceWarning: Maximum Likelihood optimization failed to converge. Check mle_retvals\n",
      "  warnings.warn(\"Maximum Likelihood optimization failed to \"\n",
      "/home/thea/anaconda3/envs/hh_t/lib/python3.12/site-packages/statsmodels/tsa/statespace/sarimax.py:966: UserWarning: Non-stationary starting autoregressive parameters found. Using zeros as starting parameters.\n",
      "  warn('Non-stationary starting autoregressive parameters'\n"
     ]
    },
    {
     "name": "stdout",
     "output_type": "stream",
     "text": [
      "预测值：[16.96444563 19.48259307 17.09599631 23.33006327 30.90365502]\n",
      "真实值：[13.3 16.6 16.1  8.   8.2  9.3]\n",
      "RMSE: 12.435403562095246\n",
      "-------------------------\n",
      "ADF Statistic: 0.6063043569593605\n",
      "p-value: 0.9877699942907777\n",
      "Critical Values: {'1%': -4.331573, '5%': -3.23295, '10%': -2.7487}\n",
      "预测值：[   8.60444412  -12.87951331  -50.33777218  -80.26704848 -118.16115054]\n",
      "真实值：[17.1 30.2 26.  12.7 12.6 14.4]\n",
      "RMSE: 81.84964890130068\n",
      "-------------------------\n",
      "ADF Statistic: -1.4198246735926634\n",
      "p-value: 0.5727358887663396\n",
      "Critical Values: {'1%': -4.331573, '5%': -3.23295, '10%': -2.7487}\n"
     ]
    },
    {
     "name": "stderr",
     "output_type": "stream",
     "text": [
      "/home/thea/anaconda3/envs/hh_t/lib/python3.12/site-packages/statsmodels/base/model.py:607: ConvergenceWarning: Maximum Likelihood optimization failed to converge. Check mle_retvals\n",
      "  warnings.warn(\"Maximum Likelihood optimization failed to \"\n",
      "/home/thea/anaconda3/envs/hh_t/lib/python3.12/site-packages/statsmodels/tsa/statespace/sarimax.py:966: UserWarning: Non-stationary starting autoregressive parameters found. Using zeros as starting parameters.\n",
      "  warn('Non-stationary starting autoregressive parameters'\n",
      "/home/thea/anaconda3/envs/hh_t/lib/python3.12/site-packages/statsmodels/base/model.py:607: ConvergenceWarning: Maximum Likelihood optimization failed to converge. Check mle_retvals\n",
      "  warnings.warn(\"Maximum Likelihood optimization failed to \"\n",
      "/home/thea/anaconda3/envs/hh_t/lib/python3.12/site-packages/statsmodels/tsa/statespace/sarimax.py:966: UserWarning: Non-stationary starting autoregressive parameters found. Using zeros as starting parameters.\n",
      "  warn('Non-stationary starting autoregressive parameters'\n"
     ]
    },
    {
     "name": "stdout",
     "output_type": "stream",
     "text": [
      "预测值：[121.82071943 138.82101804 162.8048927  217.5013646  278.56758428]\n",
      "真实值：[ 67.   88.4 101.   54.   58.2  56.1]\n",
      "RMSE: 130.12455804969028\n",
      "-------------------------\n",
      "ADF Statistic: -7.3873055235280995\n",
      "p-value: 8.172688341424761e-11\n",
      "Critical Values: {'1%': -4.331573, '5%': -3.23295, '10%': -2.7487}\n",
      "预测值：[134.31729274  92.17236788   8.23495846  -3.46717463 -26.88963868]\n",
      "真实值：[119.3 182.1 180.9  94.3  89.1  89.9]\n",
      "RMSE: 110.5782352254789\n",
      "-------------------------\n",
      "ADF Statistic: -2.5142526584006264\n",
      "p-value: 0.11204489967502801\n",
      "Critical Values: {'1%': -4.137829282407408, '5%': -3.1549724074074077, '10%': -2.7144769444444443}\n"
     ]
    },
    {
     "name": "stderr",
     "output_type": "stream",
     "text": [
      "/home/thea/anaconda3/envs/hh_t/lib/python3.12/site-packages/statsmodels/base/model.py:607: ConvergenceWarning: Maximum Likelihood optimization failed to converge. Check mle_retvals\n",
      "  warnings.warn(\"Maximum Likelihood optimization failed to \"\n",
      "/home/thea/anaconda3/envs/hh_t/lib/python3.12/site-packages/statsmodels/tsa/statespace/sarimax.py:966: UserWarning: Non-stationary starting autoregressive parameters found. Using zeros as starting parameters.\n",
      "  warn('Non-stationary starting autoregressive parameters'\n",
      "/home/thea/anaconda3/envs/hh_t/lib/python3.12/site-packages/statsmodels/base/model.py:607: ConvergenceWarning: Maximum Likelihood optimization failed to converge. Check mle_retvals\n",
      "  warnings.warn(\"Maximum Likelihood optimization failed to \"\n",
      "/home/thea/anaconda3/envs/hh_t/lib/python3.12/site-packages/statsmodels/tsa/statespace/sarimax.py:966: UserWarning: Non-stationary starting autoregressive parameters found. Using zeros as starting parameters.\n",
      "  warn('Non-stationary starting autoregressive parameters'\n"
     ]
    },
    {
     "name": "stdout",
     "output_type": "stream",
     "text": [
      "预测值：[ 68.00202092  78.89886914  95.21774503 129.29517576 171.63553841]\n",
      "真实值：[60.7 62.4 66.1 43.7 43.8 47.9]\n",
      "RMSE: 70.4866432090743\n",
      "-------------------------\n",
      "ADF Statistic: -5.215001043469998\n",
      "p-value: 8.19279810825011e-06\n",
      "Critical Values: {'1%': -4.137829282407408, '5%': -3.1549724074074077, '10%': -2.7144769444444443}\n",
      "预测值：[43.70780612 55.35870708 52.77529413 62.24043305 74.74739343]\n",
      "真实值：[21.8 29.8 30.  13.6 13.1 12.8]\n",
      "RMSE: 39.5429041208672\n",
      "-------------------------\n",
      "ADF Statistic: -3.0907932664259143\n",
      "p-value: 0.02724207312006055\n",
      "Critical Values: {'1%': -4.01203360058309, '5%': -3.1041838775510207, '10%': -2.6909873469387753}\n"
     ]
    },
    {
     "name": "stderr",
     "output_type": "stream",
     "text": [
      "/home/thea/anaconda3/envs/hh_t/lib/python3.12/site-packages/statsmodels/base/model.py:607: ConvergenceWarning: Maximum Likelihood optimization failed to converge. Check mle_retvals\n",
      "  warnings.warn(\"Maximum Likelihood optimization failed to \"\n",
      "/home/thea/anaconda3/envs/hh_t/lib/python3.12/site-packages/statsmodels/tsa/statespace/sarimax.py:966: UserWarning: Non-stationary starting autoregressive parameters found. Using zeros as starting parameters.\n",
      "  warn('Non-stationary starting autoregressive parameters'\n",
      "/home/thea/anaconda3/envs/hh_t/lib/python3.12/site-packages/statsmodels/base/model.py:607: ConvergenceWarning: Maximum Likelihood optimization failed to converge. Check mle_retvals\n",
      "  warnings.warn(\"Maximum Likelihood optimization failed to \"\n",
      "/home/thea/anaconda3/envs/hh_t/lib/python3.12/site-packages/statsmodels/tsa/statespace/sarimax.py:966: UserWarning: Non-stationary starting autoregressive parameters found. Using zeros as starting parameters.\n",
      "  warn('Non-stationary starting autoregressive parameters'\n",
      "/home/thea/anaconda3/envs/hh_t/lib/python3.12/site-packages/statsmodels/tsa/statespace/sarimax.py:978: UserWarning: Non-invertible starting MA parameters found. Using zeros as starting parameters.\n",
      "  warn('Non-invertible starting MA parameters found.'\n"
     ]
    },
    {
     "name": "stdout",
     "output_type": "stream",
     "text": [
      "预测值：[ 49.87138471  31.66413624   3.6562194  -13.24563907 -16.40195852]\n",
      "真实值：[55.2 67.9 72.4 48.8 46.4 37.8]\n",
      "RMSE: 52.65147116905842\n",
      "-------------------------\n",
      "ADF Statistic: -5.443275219406856\n",
      "p-value: 2.7458934932492113e-06\n",
      "Critical Values: {'1%': -4.137829282407408, '5%': -3.1549724074074077, '10%': -2.7144769444444443}\n",
      "预测值：[113.51625149 141.36284641 121.42428726 127.39106801 157.22981347]\n",
      "真实值：[68.8 91.3 86.9 48.3 51.2 52. ]\n",
      "RMSE: 68.11090339697869\n",
      "-------------------------\n",
      "ADF Statistic: 0.1414137771679542\n",
      "p-value: 0.9687774778123668\n",
      "Critical Values: {'1%': -4.331573, '5%': -3.23295, '10%': -2.7487}\n",
      "预测值：[ 26.58382819  49.92328149  80.99486071 127.7390388  195.77075698]\n",
      "真实值：[12.4 16.3 16.4  9.4  8.2  9.3]\n",
      "RMSE: 104.58596399334927\n",
      "-------------------------\n",
      "ADF Statistic: -6.169392071204441\n",
      "p-value: 6.863822699178636e-08\n",
      "Critical Values: {'1%': -4.331573, '5%': -3.23295, '10%': -2.7487}\n",
      "预测值：[143.94175511 137.27180511 139.84841417 157.48024301 167.97555454]\n",
      "真实值：[ 99.6 122.2 136.5  79.7  64.7  78.7]\n",
      "RMSE: 61.514502574211015\n",
      "-------------------------\n",
      "ADF Statistic: -0.8999374065870965\n",
      "p-value: 0.7879930298819928\n",
      "Critical Values: {'1%': -4.223238279489106, '5%': -3.189368925619835, '10%': -2.729839421487603}\n"
     ]
    },
    {
     "name": "stderr",
     "output_type": "stream",
     "text": [
      "/home/thea/anaconda3/envs/hh_t/lib/python3.12/site-packages/statsmodels/tsa/statespace/sarimax.py:966: UserWarning: Non-stationary starting autoregressive parameters found. Using zeros as starting parameters.\n",
      "  warn('Non-stationary starting autoregressive parameters'\n",
      "/home/thea/anaconda3/envs/hh_t/lib/python3.12/site-packages/statsmodels/tsa/statespace/sarimax.py:978: UserWarning: Non-invertible starting MA parameters found. Using zeros as starting parameters.\n",
      "  warn('Non-invertible starting MA parameters found.'\n",
      "/home/thea/anaconda3/envs/hh_t/lib/python3.12/site-packages/statsmodels/base/model.py:607: ConvergenceWarning: Maximum Likelihood optimization failed to converge. Check mle_retvals\n",
      "  warnings.warn(\"Maximum Likelihood optimization failed to \"\n",
      "/home/thea/anaconda3/envs/hh_t/lib/python3.12/site-packages/statsmodels/tsa/statespace/sarimax.py:966: UserWarning: Non-stationary starting autoregressive parameters found. Using zeros as starting parameters.\n",
      "  warn('Non-stationary starting autoregressive parameters'\n"
     ]
    },
    {
     "name": "stdout",
     "output_type": "stream",
     "text": [
      "预测值：[34.51165533 42.82411191 47.11408838 62.117974   87.18451317]\n",
      "真实值：[21.9 30.5 26.7 15.7 15.3 13. ]\n",
      "RMSE: 40.12401799765714\n",
      "-------------------------\n"
     ]
    },
    {
     "name": "stderr",
     "output_type": "stream",
     "text": [
      "/home/thea/anaconda3/envs/hh_t/lib/python3.12/site-packages/statsmodels/base/model.py:607: ConvergenceWarning: Maximum Likelihood optimization failed to converge. Check mle_retvals\n",
      "  warnings.warn(\"Maximum Likelihood optimization failed to \"\n"
     ]
    }
   ],
   "source": [
    "for col in train:\n",
    "    #从第二列开始 提取每一列数据进行预测\n",
    "    train_data = train[col]\n",
    "    test_data = test[col]\n",
    "    train_data_array = train_data.values.flatten()\n",
    "    train_data_array = train_data_array.astype('float32')\n",
    "    test_data_array = test_data.values.flatten()\n",
    "    test_data_array = test_data_array.astype('float32') \n",
    "    #检验数据是否平稳\n",
    "    adf_result = adfuller(train_data_array)\n",
    "    print(f'ADF Statistic: {adf_result[0]}')\n",
    "    print(f'p-value: {adf_result[1]}')\n",
    "    print(f'Critical Values: {adf_result[4]}')\n",
    "    #如果数据不平稳，进行差分处理\n",
    "    if adf_result[1] > 0.05:\n",
    "        train_data_diff = np.diff(train_data_array)\n",
    "    else:\n",
    "        train_data_diff = train_data_array\n",
    "    #建立ARIMA模型\n",
    "    model = ARIMA(train_data_diff, order=(6, 4, 1))\n",
    "    model_fit = model.fit()\n",
    "    #预测\n",
    "    pred = model_fit.forecast(steps=5)\n",
    "    #计算RMSE\n",
    "    if adf_result[1] > 0.05:\n",
    "        pred = np.r_[train_data_array[-1], pred].cumsum()[1:]\n",
    "    else:\n",
    "        pred = pred\n",
    "    test_data_array = test_data_array[:len(pred)]\n",
    "    # 计算RMSE\n",
    "    rmse = np.sqrt(mean_squared_error(test_data_array, pred))\n",
    "\n",
    "    print(f'预测值：{pred}')\n",
    "    print(f'真实值：{test_data.values}')\n",
    "    print(f'RMSE: {rmse}')\n",
    "    print('-------------------------')"
   ]
  }
 ],
 "metadata": {
  "kernelspec": {
   "display_name": "hh_t",
   "language": "python",
   "name": "python3"
  },
  "language_info": {
   "codemirror_mode": {
    "name": "ipython",
    "version": 3
   },
   "file_extension": ".py",
   "mimetype": "text/x-python",
   "name": "python",
   "nbconvert_exporter": "python",
   "pygments_lexer": "ipython3",
   "version": "3.12.4"
  }
 },
 "nbformat": 4,
 "nbformat_minor": 2
}
