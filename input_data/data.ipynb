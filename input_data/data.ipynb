{
 "cells": [
  {
   "cell_type": "code",
   "execution_count": 1,
   "metadata": {},
   "outputs": [
    {
     "name": "stdout",
     "output_type": "stream",
     "text": [
      "matrix: Index(['From', 'To', 'Distance', 'Duration'], dtype='object')\n",
      "customer: Index(['Name', 'Type', 'Location'], dtype='object')\n",
      "loc: Index(['Location', 'Longitude', 'Latitude', 'city_area', 'builtup_area',\n",
      "       'resident_pop', 'gdp'],\n",
      "      dtype='object')\n",
      "order: Index(['Name', 'qty', 'SKU'], dtype='object')\n",
      "past_order: Index(['Name', 'SKU', '2016/6/1', '2016/6/2', '2016/6/3', '2016/6/4',\n",
      "       '2016/6/5', '2016/6/6', '2016/6/7', '2016/6/8', '2016/6/9', '2016/6/10',\n",
      "       '2016/6/11', '2016/6/12', '2016/6/13', '2016/6/14', '2016/6/15',\n",
      "       '2016/6/16', '2016/6/17', '2016/6/18', '2016/6/19', '2016/6/20',\n",
      "       '2016/6/21', '2016/6/22', '2016/6/23'],\n",
      "      dtype='object')\n",
      "proc: Index(['Name', 'Capacity', 'Processing_fee', 'Opening_fee'], dtype='object')\n",
      "wh: Index(['Name', 'Type', 'Location'], dtype='object')\n"
     ]
    }
   ],
   "source": [
    "import pandas as pd\n",
    "matrix=pd.read_csv('df_matrix.csv')\n",
    "print(\"matrix:\",matrix.columns)\n",
    "\n",
    "customer=pd.read_csv('df_customer.csv')\n",
    "print(\"customer:\",customer.columns)\n",
    "\n",
    "#list=pd.read_csv('df_list.csv')\n",
    "#print(\"list:\",list.columns)\n",
    "\n",
    "loc=pd.read_csv('df_loc.csv')\n",
    "print(\"loc:\",loc.columns)\n",
    "\n",
    "order=pd.read_csv('df_order.csv')\n",
    "print(\"order:\",order.columns)\n",
    "\n",
    "past_order=pd.read_csv('df_past_order.csv')\n",
    "print(\"past_order:\",past_order.columns)\n",
    "\n",
    "proc=pd.read_csv('df_proc.csv')\n",
    "print(\"proc:\",proc.columns)\n",
    "\n",
    "wh=pd.read_csv('df_wh.csv')\n",
    "print(\"wh:\",wh.columns)"
   ]
  },
  {
   "cell_type": "code",
   "execution_count": 9,
   "metadata": {},
   "outputs": [
    {
     "data": {
      "text/plain": [
       "array(['nei-lu-CDC', 'gang-kou-CDC', 'cheng-du-DC', 'dong-guan-DC',\n",
       "       'guang-zhou-DC', 'nan-jing-DC', 'qing-dao-DC', 'shang-hai-DC',\n",
       "       'shen-zhen-DC', 'tian-jin-DC', 'xi-an-DC', 'chang-sha-DC',\n",
       "       'zheng-zhou-DC', 'hang-zhou-DC', 'wu-han-DC', 'da-lian-DC',\n",
       "       'ha-er-bin-DC', 'bei-jing-DC', 'ning-bo-DC', 'chong-qing-DC'],\n",
       "      dtype=object)"
      ]
     },
     "execution_count": 9,
     "metadata": {},
     "output_type": "execute_result"
    }
   ],
   "source": [
    "FROM=matrix['From'].unique()\n",
    "FROM"
   ]
  },
  {
   "cell_type": "code",
   "execution_count": 10,
   "metadata": {},
   "outputs": [
    {
     "data": {
      "text/plain": [
       "array(['cheng-du-DC', 'dong-guan-DC', 'guang-zhou-DC', 'nei-lu-CDC',\n",
       "       'nan-jing-DC', 'qing-dao-DC', 'gang-kou-CDC', 'shang-hai-DC',\n",
       "       'shen-zhen-DC', 'tian-jin-DC', 'xi-an-DC', 'chang-sha-DC',\n",
       "       'zheng-zhou-DC', 'hang-zhou-DC', 'wu-han-DC', 'da-lian-DC',\n",
       "       'ha-er-bin-DC', 'bei-jing-DC', 'ning-bo-DC', 'chong-qing-DC',\n",
       "       'bo-zhou-shi', 'chu-zhou-shi', 'fu-yang-shi', 'he-fei-shi',\n",
       "       'lu-an-shi', 'wu-hu-shi', 'su-zhou-shi', 'bei-jing-shi',\n",
       "       'fu-zhou-shi', 'ning-de-shi', 'quan-zhou-shi',\n",
       "       'gang-kou-CDC-suo-zai-cheng-shi', 'zhang-zhou-shi', 'lan-zhou-shi',\n",
       "       'dong-guan-shi', 'fo-shan-shi', 'guang-zhou-shi', 'hui-zhou-shi',\n",
       "       'jiang-men-shi', 'jie-yang-shi', 'shan-tou-shi', 'shen-zhen-shi',\n",
       "       'zhan-jiang-shi', 'zhong-shan-shi', 'zhu-hai-shi', 'nan-ning-shi',\n",
       "       'gui-yang-shi', 'bao-ding-shi', 'cang-zhou-shi', 'cheng-de-shi',\n",
       "       'han-dan-shi', 'nei-lu-CDC-suo-zai-cheng-shi',\n",
       "       'shi-jia-zhuang-shi', 'tang-shan-shi', 'xing-tai-shi',\n",
       "       'zhang-jia-kou-shi', 'luo-yang-shi', 'nan-yang-shi',\n",
       "       'shang-qiu-shi', 'xin-xiang-shi', 'xin-yang-shi', 'zheng-zhou-shi',\n",
       "       'zhou-kou-shi', 'da-qing-shi', 'ha-er-bin-shi', 'wu-han-shi',\n",
       "       'xiang-yang-shi', 'heng-yang-shi', 'chang-sha-shi', 'ji-lin-shi',\n",
       "       'chang-chun-shi', 'chang-zhou-shi', 'huai-an-shi',\n",
       "       'lian-yun-gang-shi', 'nan-jing-shi', 'nan-tong-shi',\n",
       "       'tai-zhou-shi', 'wu-xi-shi', 'su-qian-shi', 'xu-zhou-shi',\n",
       "       'yan-cheng-shi', 'yang-zhou-shi', 'zhen-jiang-shi', 'gan-zhou-shi',\n",
       "       'jiu-jiang-shi', 'nan-chang-shi', 'shang-rao-shi', 'an-shan-shi',\n",
       "       'da-lian-shi', 'shen-yang-shi', 'bao-tou-shi', 'hu-he-hao-te-shi',\n",
       "       'de-zhou-shi', 'dong-ying-shi', 'he-ze-shi', 'ji-nan-shi',\n",
       "       'ji-ning-shi', 'liao-cheng-shi', 'lin-yi-shi', 'qing-dao-shi',\n",
       "       'ri-zhao-shi', 'tai-an-shi', 'wei-hai-shi', 'wei-fang-shi',\n",
       "       'yan-tai-shi', 'zi-bo-shi', 'lin-fen-shi', 'tai-yuan-shi',\n",
       "       'yun-cheng-shi', 'xi-an-shi', 'xian-yang-shi', 'shang-hai-shi',\n",
       "       'cheng-du-shi', 'mian-yang-shi', 'tian-jin-shi', 'kun-ming-shi',\n",
       "       'hang-zhou-shi', 'hu-zhou-shi', 'jia-xing-shi', 'jin-hua-shi',\n",
       "       'ning-bo-shi', 'shao-xing-shi', 'wen-zhou-shi', 'chong-qing-shi'],\n",
       "      dtype=object)"
      ]
     },
     "execution_count": 10,
     "metadata": {},
     "output_type": "execute_result"
    }
   ],
   "source": [
    "TO=matrix['To'].unique()\n",
    "TO"
   ]
  }
 ],
 "metadata": {
  "kernelspec": {
   "display_name": "pytorch",
   "language": "python",
   "name": "python3"
  },
  "language_info": {
   "codemirror_mode": {
    "name": "ipython",
    "version": 3
   },
   "file_extension": ".py",
   "mimetype": "text/x-python",
   "name": "python",
   "nbconvert_exporter": "python",
   "pygments_lexer": "ipython3",
   "version": "3.10.13"
  }
 },
 "nbformat": 4,
 "nbformat_minor": 2
}
