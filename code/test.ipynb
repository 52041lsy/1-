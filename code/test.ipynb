{
 "cells": [
  {
   "cell_type": "code",
   "execution_count": 18,
   "metadata": {},
   "outputs": [
    {
     "name": "stdout",
     "output_type": "stream",
     "text": [
      "[0.5 1.  1.  0.5 0.5 1.  1. ]\n",
      "[ 1.5  4.   9.   9.  13.5 36.  49. ]\n"
     ]
    },
    {
     "data": {
      "text/plain": [
       "array([ 1.5,  6. ,  4. ,  9. ,  9. , 13.5, 36. , 49. ])"
      ]
     },
     "execution_count": 18,
     "metadata": {},
     "output_type": "execute_result"
    }
   ],
   "source": [
    "import numpy as np\n",
    "Z=np.array([1,0,0,1,1,0,0])\n",
    "tmp1=np.array([1,2,3,4,5,6,7])\n",
    "Pf=np.array([1,2,3,4,5,6,7])\n",
    "b=np.array([\n",
    "    [0,0,0,1,0],\n",
    "    [0,0,1,0,0],\n",
    "    [0,1,0,0,0],\n",
    "    [1,0,0,0,0],\n",
    "    [1,0,0,0,0],\n",
    "    [0,0,0,1,0],\n",
    "    [0,0,0,0,1]\n",
    "])\n",
    "b=b.T\n",
    "k=-0.5*Z+1\n",
    "print(k)\n",
    "cp=tmp1*Pf*k+Z\n",
    "print(cp)\n",
    "cp=np.insert(cp,1,values=6)\n",
    "cp"
   ]
  },
  {
   "cell_type": "code",
   "execution_count": 10,
   "metadata": {},
   "outputs": [
    {
     "data": {
      "text/plain": [
       "<MVar ()>\n",
       "array(<gurobi.Var *Awaiting Model Update*>)"
      ]
     },
     "execution_count": 10,
     "metadata": {},
     "output_type": "execute_result"
    }
   ],
   "source": [
    "from gurobipy import *\n",
    "\n",
    "\n",
    "# 创建模型\n",
    "m = Model(\"ass_mov\")\n",
    "# 创建变量.第i个时段在第j个影厅放映第k部电影\n",
    "x = m.addMVar((19, 7), vtype=GRB.BINARY)\n",
    "y = m.addVars(2, 20, vtype=GRB.BINARY)\n",
    "z = m.addMVar(19,vtype=GRB.BINARY)\n",
    "\n",
    "z[3]"
   ]
  }
 ],
 "metadata": {
  "kernelspec": {
   "display_name": "pytorch",
   "language": "python",
   "name": "python3"
  },
  "language_info": {
   "codemirror_mode": {
    "name": "ipython",
    "version": 3
   },
   "file_extension": ".py",
   "mimetype": "text/x-python",
   "name": "python",
   "nbconvert_exporter": "python",
   "pygments_lexer": "ipython3",
   "version": "3.10.13"
  }
 },
 "nbformat": 4,
 "nbformat_minor": 2
}
