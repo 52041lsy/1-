{
 "cells": [
  {
   "cell_type": "code",
   "execution_count": 53,
   "metadata": {},
   "outputs": [],
   "source": [
    "import numpy as np\n",
    "a=np.array([[1,2,3,4,5,6,7]])\n",
    "b=np.array([\n",
    "    [0,0,0,1,0],\n",
    "    [0,0,1,0,0],\n",
    "    [0,1,0,0,0],\n",
    "    [1,0,0,0,0],\n",
    "    [1,0,0,0,0],\n",
    "    [0,0,0,1,0],\n",
    "    [0,0,0,0,1]\n",
    "])\n",
    "b=b.T"
   ]
  },
  {
   "cell_type": "code",
   "execution_count": 54,
   "metadata": {},
   "outputs": [
    {
     "data": {
      "text/plain": [
       "array([[0, 0, 0, 4, 5, 0, 0],\n",
       "       [0, 0, 3, 0, 0, 0, 0],\n",
       "       [0, 2, 0, 0, 0, 0, 0],\n",
       "       [1, 0, 0, 0, 0, 6, 0],\n",
       "       [0, 0, 0, 0, 0, 0, 7]])"
      ]
     },
     "execution_count": 54,
     "metadata": {},
     "output_type": "execute_result"
    }
   ],
   "source": [
    "a*b"
   ]
  },
  {
   "cell_type": "code",
   "execution_count": 55,
   "metadata": {},
   "outputs": [
    {
     "name": "stdout",
     "output_type": "stream",
     "text": [
      "Gurobi Optimizer version 11.0.3 build v11.0.3rc0 (win64 - Windows 11.0 (22631.2))\n",
      "\n",
      "CPU model: 12th Gen Intel(R) Core(TM) i7-1260P, instruction set [SSE2|AVX|AVX2]\n",
      "Thread count: 12 physical cores, 16 logical processors, using up to 16 threads\n",
      "\n",
      "Optimize a model with 64 rows, 448 columns and 896 nonzeros\n",
      "Model fingerprint: 0xae490d04\n",
      "Variable types: 0 continuous, 448 integer (448 binary)\n",
      "Coefficient statistics:\n"
     ]
    },
    {
     "name": "stdout",
     "output_type": "stream",
     "text": [
      "  Matrix range     [1e+00, 1e+00]\n",
      "  Objective range  [2e+03, 1e+04]\n",
      "  Bounds range     [1e+00, 1e+00]\n",
      "  RHS range        [1e+00, 1e+00]\n",
      "Found heuristic solution: objective 325324.25000\n",
      "Presolve time: 0.00s\n",
      "Presolved: 64 rows, 448 columns, 896 nonzeros\n",
      "Variable types: 0 continuous, 448 integer (448 binary)\n",
      "Found heuristic solution: objective 381565.75000\n",
      "\n",
      "Root relaxation: objective 3.865421e+05, 65 iterations, 0.00 seconds (0.00 work units)\n",
      "\n",
      "    Nodes    |    Current Node    |     Objective Bounds      |     Work\n",
      " Expl Unexpl |  Obj  Depth IntInf | Incumbent    BestBd   Gap | It/Node Time\n",
      "\n",
      "*    0     0               0    386542.15000 386542.150  0.00%     -    0s\n",
      "\n",
      "Explored 1 nodes (65 simplex iterations) in 0.03 seconds (0.00 work units)\n",
      "Thread count was 16 (of 16 available processors)\n",
      "\n",
      "Solution count 3: 386542 381566 325324 \n",
      "\n",
      "Optimal solution found (tolerance 1.00e-04)\n",
      "Best objective 3.865421500000e+05, best bound 3.865421500000e+05, gap 0.0000%\n",
      "最大收益为: 386542.14999999997\n",
      "最佳排片方法:\n",
      "\n",
      "影厅j| [0, 1, 2, 3, 4, 5, 6]\n",
      "----------------------------\n",
      "时段0| [6, 7, 5, 5, 5, 5, 5]\n",
      "时段1| [1, 7, 7, 7, 7, 7, 4]\n",
      "时段2| [6, 3, 5, 5, 5, 5, 5]\n",
      "时段3| [6, 3, 5, 5, 5, 5, 5]\n",
      "时段4| [6, 3, 6, 8, 6, 5, 5]\n",
      "时段5| [6, 3, 4, 3, 6, 4, 4]\n",
      "时段6| [3, 3, 4, 3, 2, 4, 4]\n",
      "时段7| [3, 3, 4, 3, 2, 4, 4]\n"
     ]
    }
   ],
   "source": [
    "from gurobipy import *\n",
    "# 8部电影\n",
    "# 7个影厅\n",
    "# 8个时段\n",
    "I = list(range(8))  # 时段\n",
    "J = list(range(7))  # 影厅\n",
    "K = list(range(8))  # 电影\n",
    "\n",
    "seat_j = [118, 86, 116, 85, 156, 142, 156]\n",
    "# 一行为一个影厅,一列为一部电影\n",
    "price_jk = [[60, 60, 65, 60, 65, 90, 60, 65],\n",
    "            [65, 65, 85, 75, 60, 75, 85, 80],\n",
    "            [60, 70, 75, 80, 75, 80, 80, 75],\n",
    "            [65, 65, 80, 75, 80, 75, 75, 80],\n",
    "            [60, 65, 65, 60, 75, 80, 80, 75],\n",
    "            [60, 65, 65, 80, 75, 75, 80, 75],\n",
    "            [60, 60, 75, 80, 75, 70, 60, 75]]\n",
    "# 一行为一个时段,一列为一部电影\n",
    "rate_ik = [[0.50, 0.55, 0.45, 0.50, 0.60, 0.46, 0.55, 0.45],\n",
    "           [0.42, 0.43, 0.41, 0.43, 0.45, 0.30, 0.53, 0.36],\n",
    "           [0.58, 0.63, 0.67, 0.64, 0.70, 0.64, 0.54, 0.57],\n",
    "           [0.62, 0.67, 0.70, 0.65, 0.75, 0.64, 0.53, 0.66],\n",
    "           [0.65, 0.65, 0.73, 0.68, 0.75, 0.74, 0.67, 0.72],\n",
    "           [0.66, 0.69, 0.78, 0.78, 0.78, 0.75, 0.74, 0.70],\n",
    "           [0.67, 0.92, 0.87, 0.87, 0.75, 0.59, 0.68, 0.68],\n",
    "           [0.67, 0.92, 0.87, 0.87, 0.75, 0.59, 0.68, 0.68]]\n",
    "# 计算满座的票房二维列表,lt_all\n",
    "all_jk = [[0 for col in K] for row in J]\n",
    "for j in J:\n",
    "    for k in K:\n",
    "        all_jk[j][k] = price_jk[j][k] * seat_j[j]\n",
    "# 创建模型\n",
    "m = Model(\"ass_mov\")\n",
    "# 创建变量.第i个时段在第j个影厅放映第k部电影\n",
    "x = m.addVars(I, J, K, vtype=GRB.BINARY)\n",
    "# 更新变量环境\n",
    "m.update()\n",
    "# 创建目标函数\n",
    "m.setObjective(sum(x[i, j, k] * rate_ik[i][k] * all_jk[j][k]\n",
    "                   for i in I for j in J for k in K),\n",
    "                   GRB.MAXIMIZE)\n",
    "# 创建约束条件约束条件\n",
    "# 每部电影至少放映一次\n",
    "m.addConstrs(sum(x[i,j,k] for i in I for j in J) >= 1 for k in K) \n",
    "# 每个时段每个影厅只能放映一部电影\n",
    "m.addConstrs(sum(x[i,j,k] for k in K) == 1 for i in I for j in J)\n",
    "# 求解规划模型\n",
    "m.optimize()\n",
    "\n",
    "# 输出结果\n",
    "result = [[0 for col in J] for row in I]\n",
    "solution = m.getAttr('x',x)\n",
    "# 得到排片矩阵\n",
    "for k,v in solution.items():\n",
    "    if v == 1:\n",
    "        result[k[0]][k[1]] = k[2] + 1\n",
    "# 得到最大收益值\n",
    "max_get = sum(\n",
    "    x[i, j, k].x * rate_ik[i][k] * all_jk[j][k] \n",
    "    for i in I for j in J for k in K\n",
    ")\n",
    "# 打印最大收益值,和排片矩阵\n",
    "print('最大收益为:',max_get)\n",
    "print('最佳排片方法:')\n",
    "print('\\n影厅j|', J)\n",
    "print('-'*28)\n",
    "for idx,l in enumerate(result) :\n",
    "    print(f'时段{idx}|',l)\n"
   ]
  },
  {
   "cell_type": "code",
   "execution_count": 56,
   "metadata": {},
   "outputs": [
    {
     "data": {
      "text/plain": [
       "array([[3, 0],\n",
       "       [0, 3]])"
      ]
     },
     "execution_count": 56,
     "metadata": {},
     "output_type": "execute_result"
    }
   ],
   "source": [
    "M1=np.diag((3,3))\n",
    "M1"
   ]
  }
 ],
 "metadata": {
  "kernelspec": {
   "display_name": "pytorch",
   "language": "python",
   "name": "python3"
  },
  "language_info": {
   "codemirror_mode": {
    "name": "ipython",
    "version": 3
   },
   "file_extension": ".py",
   "mimetype": "text/x-python",
   "name": "python",
   "nbconvert_exporter": "python",
   "pygments_lexer": "ipython3",
   "version": "3.10.13"
  }
 },
 "nbformat": 4,
 "nbformat_minor": 2
}
